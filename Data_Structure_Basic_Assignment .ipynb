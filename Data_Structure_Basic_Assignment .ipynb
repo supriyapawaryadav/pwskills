{
 "cells": [
  {
   "cell_type": "markdown",
   "id": "1d59f3ed",
   "metadata": {},
   "source": [
    "# Q.1 Dicuss string and provide example"
   ]
  },
  {
   "cell_type": "markdown",
   "id": "08d11b06",
   "metadata": {},
   "source": [
    "1.1 String is data structure where we can store data in sequencely .\n",
    "1.2 String are immutable data type.\n",
    "1.3 We can perform verious operation on string to access the data in string\n",
    "1.4 String have indexing ,starting index value is always 0\n",
    "1.5 String data type always have single , double or tripple couts"
   ]
  },
  {
   "cell_type": "code",
   "execution_count": 1,
   "id": "2b87c0fc",
   "metadata": {},
   "outputs": [
    {
     "name": "stdout",
     "output_type": "stream",
     "text": [
      "Microsoft\n"
     ]
    }
   ],
   "source": [
    "#Example:\n",
    "str=\"Microsoft\"\n",
    "print(str)"
   ]
  },
  {
   "cell_type": "markdown",
   "id": "b164f602",
   "metadata": {},
   "source": [
    "# Q.2 Explain key features of list in python"
   ]
  },
  {
   "cell_type": "markdown",
   "id": "04251419",
   "metadata": {},
   "source": [
    "2.1 List are mutable data structure in which we can add, remove ,update operation\n",
    "2.2 List are hetrogeneus data structure.\n",
    "2.3 List have indexing,starting index value is always 0"
   ]
  },
  {
   "cell_type": "code",
   "execution_count": 2,
   "id": "08ed1392",
   "metadata": {},
   "outputs": [
    {
     "data": {
      "text/plain": [
       "[1, 1, 33, 4]"
      ]
     },
     "execution_count": 2,
     "metadata": {},
     "output_type": "execute_result"
    }
   ],
   "source": [
    "list=[1,1,33,4]\n",
    "list"
   ]
  },
  {
   "cell_type": "markdown",
   "id": "76fd080a",
   "metadata": {},
   "source": [
    "# Q.3 Discribe how to access ,modify qand delete elements in list with example."
   ]
  },
  {
   "cell_type": "code",
   "execution_count": 3,
   "id": "9faf2287",
   "metadata": {},
   "outputs": [
    {
     "data": {
      "text/plain": [
       "1"
      ]
     },
     "execution_count": 3,
     "metadata": {},
     "output_type": "execute_result"
    }
   ],
   "source": [
    "#Examples of how to access list using indexing\n",
    "lst=[1,2,3,4,5]\n",
    "lst[0] #gives first item in list"
   ]
  },
  {
   "cell_type": "code",
   "execution_count": 4,
   "id": "b45aea2e",
   "metadata": {},
   "outputs": [
    {
     "data": {
      "text/plain": [
       "[1, 2, 3, 4, 5]"
      ]
     },
     "execution_count": 4,
     "metadata": {},
     "output_type": "execute_result"
    }
   ],
   "source": [
    "lst[0:] # gives iterms from starting to last element"
   ]
  },
  {
   "cell_type": "code",
   "execution_count": 5,
   "id": "d992c061",
   "metadata": {},
   "outputs": [
    {
     "data": {
      "text/plain": [
       "2"
      ]
     },
     "execution_count": 5,
     "metadata": {},
     "output_type": "execute_result"
    }
   ],
   "source": [
    "lst[-4] "
   ]
  },
  {
   "cell_type": "code",
   "execution_count": 6,
   "id": "a7d62473",
   "metadata": {},
   "outputs": [
    {
     "data": {
      "text/plain": [
       "[1, 2, 3, 4, 5]"
      ]
     },
     "execution_count": 6,
     "metadata": {},
     "output_type": "execute_result"
    }
   ],
   "source": [
    "#examples of how to modify list\n",
    "lst"
   ]
  },
  {
   "cell_type": "code",
   "execution_count": 7,
   "id": "eb1e3e12",
   "metadata": {},
   "outputs": [
    {
     "data": {
      "text/plain": [
       "[1, 2, 3, 4, 5, 99]"
      ]
     },
     "execution_count": 7,
     "metadata": {},
     "output_type": "execute_result"
    }
   ],
   "source": [
    "lst.append(99) # adding item 99\n",
    "lst"
   ]
  },
  {
   "cell_type": "code",
   "execution_count": 8,
   "id": "9d251541",
   "metadata": {},
   "outputs": [
    {
     "data": {
      "text/plain": [
       "[1, 2, 3, 44, 5, 99]"
      ]
     },
     "execution_count": 8,
     "metadata": {},
     "output_type": "execute_result"
    }
   ],
   "source": [
    "lst[3]=44 #modify index 3 value in to new value 44\n",
    "lst"
   ]
  },
  {
   "cell_type": "code",
   "execution_count": 9,
   "id": "f0fa89fa",
   "metadata": {},
   "outputs": [],
   "source": [
    "lst.remove(3) # deleting item 3\n"
   ]
  },
  {
   "cell_type": "code",
   "execution_count": 10,
   "id": "a926d2c0",
   "metadata": {},
   "outputs": [
    {
     "data": {
      "text/plain": [
       "[1, 2, 44, 5, 99]"
      ]
     },
     "execution_count": 10,
     "metadata": {},
     "output_type": "execute_result"
    }
   ],
   "source": [
    "lst"
   ]
  },
  {
   "cell_type": "markdown",
   "id": "294d5fce",
   "metadata": {},
   "source": [
    "# Q.4 Compare and contrast tuple and list with example"
   ]
  },
  {
   "cell_type": "markdown",
   "id": "94850e2c",
   "metadata": {},
   "source": [
    "4.1 Tuple - immutale data structure\n",
    "4.2 List - mutale data structure\n",
    "4.3 list are dynamic where tuple are static\n",
    "4.4 tuple are faster then list\n",
    "4.5 list have many bulit in methods where tuples dont have "
   ]
  },
  {
   "cell_type": "code",
   "execution_count": 11,
   "id": "e3d8765c",
   "metadata": {},
   "outputs": [
    {
     "data": {
      "text/plain": [
       "(10, 1, 2, 3, 4, 5)"
      ]
     },
     "execution_count": 11,
     "metadata": {},
     "output_type": "execute_result"
    }
   ],
   "source": [
    "#tuple\n",
    "roll=(10,1,2,3,4,5)\n",
    "roll"
   ]
  },
  {
   "cell_type": "code",
   "execution_count": 12,
   "id": "06daf832",
   "metadata": {},
   "outputs": [
    {
     "data": {
      "text/plain": [
       "[2, 'apple', 66, 'kivi']"
      ]
     },
     "execution_count": 12,
     "metadata": {},
     "output_type": "execute_result"
    }
   ],
   "source": [
    "#list\n",
    "elements=[2,'apple',66,'kivi']\n",
    "elements"
   ]
  },
  {
   "cell_type": "code",
   "execution_count": 13,
   "id": "e8ac0ea7",
   "metadata": {},
   "outputs": [],
   "source": [
    "elements.append(4)\n"
   ]
  },
  {
   "cell_type": "code",
   "execution_count": 14,
   "id": "81421661",
   "metadata": {},
   "outputs": [
    {
     "data": {
      "text/plain": [
       "[2, 'apple', 66, 'kivi', 4]"
      ]
     },
     "execution_count": 14,
     "metadata": {},
     "output_type": "execute_result"
    }
   ],
   "source": [
    "elements"
   ]
  },
  {
   "cell_type": "code",
   "execution_count": 15,
   "id": "02f4eb8f",
   "metadata": {},
   "outputs": [],
   "source": [
    "elements.remove(66)"
   ]
  },
  {
   "cell_type": "code",
   "execution_count": 16,
   "id": "62019bdb",
   "metadata": {},
   "outputs": [
    {
     "data": {
      "text/plain": [
       "[2, 'apple', 'kivi', 4]"
      ]
     },
     "execution_count": 16,
     "metadata": {},
     "output_type": "execute_result"
    }
   ],
   "source": [
    "elements"
   ]
  },
  {
   "cell_type": "markdown",
   "id": "16f33bf8",
   "metadata": {},
   "source": [
    "# Q.5 Describe the key features of set and provide example of their use"
   ]
  },
  {
   "cell_type": "markdown",
   "id": "e07a0950",
   "metadata": {},
   "source": [
    "5.1 Set are mutable data sturcture\n",
    "5.2 Set does not contain repeted items\n",
    "5.3 Set have ordered list of items"
   ]
  },
  {
   "cell_type": "code",
   "execution_count": 17,
   "id": "2e031bf5",
   "metadata": {},
   "outputs": [],
   "source": [
    "set={10,1,2,3,3,5,}"
   ]
  },
  {
   "cell_type": "code",
   "execution_count": 18,
   "id": "dec7cd1a",
   "metadata": {},
   "outputs": [
    {
     "data": {
      "text/plain": [
       "{1, 2, 3, 5, 10}"
      ]
     },
     "execution_count": 18,
     "metadata": {},
     "output_type": "execute_result"
    }
   ],
   "source": [
    "set"
   ]
  },
  {
   "cell_type": "code",
   "execution_count": 19,
   "id": "034e3032",
   "metadata": {},
   "outputs": [],
   "source": [
    "set.add(9)"
   ]
  },
  {
   "cell_type": "code",
   "execution_count": 20,
   "id": "187b97f8",
   "metadata": {},
   "outputs": [
    {
     "data": {
      "text/plain": [
       "{1, 2, 3, 5, 9, 10}"
      ]
     },
     "execution_count": 20,
     "metadata": {},
     "output_type": "execute_result"
    }
   ],
   "source": [
    "set"
   ]
  },
  {
   "cell_type": "code",
   "execution_count": 21,
   "id": "b7712431",
   "metadata": {},
   "outputs": [],
   "source": [
    "set.remove(3)"
   ]
  },
  {
   "cell_type": "code",
   "execution_count": 22,
   "id": "11cb3539",
   "metadata": {},
   "outputs": [
    {
     "data": {
      "text/plain": [
       "{1, 2, 5, 9, 10}"
      ]
     },
     "execution_count": 22,
     "metadata": {},
     "output_type": "execute_result"
    }
   ],
   "source": [
    "set"
   ]
  },
  {
   "cell_type": "markdown",
   "id": "39e53778",
   "metadata": {},
   "source": [
    "# Q.6 Discuss use cases of tuples and sets in python programming"
   ]
  },
  {
   "cell_type": "markdown",
   "id": "a67ce324",
   "metadata": {},
   "source": [
    "6.1 Tuples are immutable so they are used where data doesn't change frequently\n",
    "6.2 for example adhar card ,pan card number ,username ,password are not change \n",
    "6.3 Set are mutable \n",
    "6.4 Set have unique items unlike list ,useing set we can remove duplicate values and perform various mathamatical operations"
   ]
  },
  {
   "cell_type": "code",
   "execution_count": 23,
   "id": "3f2c9de5",
   "metadata": {},
   "outputs": [
    {
     "data": {
      "text/plain": [
       "('a', 'b', 'c', 'd')"
      ]
     },
     "execution_count": 23,
     "metadata": {},
     "output_type": "execute_result"
    }
   ],
   "source": [
    "#tuple \n",
    "usernames=('a','b','c','d')\n",
    "usernames"
   ]
  },
  {
   "cell_type": "code",
   "execution_count": 24,
   "id": "16a82d4f",
   "metadata": {},
   "outputs": [
    {
     "name": "stdout",
     "output_type": "stream",
     "text": [
      "Username is already present! Try another username\n"
     ]
    }
   ],
   "source": [
    "name='a'\n",
    "if name in usernames:\n",
    "    print(\"Username is already present! Try another username\")\n",
    "else:\n",
    "    print(\"Username is not present\")"
   ]
  },
  {
   "cell_type": "code",
   "execution_count": 25,
   "id": "dc09ea09",
   "metadata": {},
   "outputs": [],
   "source": [
    "#set\n",
    "set1={1,2,3}\n",
    "set2={4,5,6}"
   ]
  },
  {
   "cell_type": "code",
   "execution_count": 26,
   "id": "f3e71f9e",
   "metadata": {},
   "outputs": [],
   "source": [
    "set3= set1|set2 # combine both sets"
   ]
  },
  {
   "cell_type": "code",
   "execution_count": 27,
   "id": "be1057bf",
   "metadata": {},
   "outputs": [
    {
     "data": {
      "text/plain": [
       "{1, 2, 3, 4, 5, 6}"
      ]
     },
     "execution_count": 27,
     "metadata": {},
     "output_type": "execute_result"
    }
   ],
   "source": [
    "set3"
   ]
  },
  {
   "cell_type": "markdown",
   "id": "3e144e5f",
   "metadata": {},
   "source": [
    "# Q.7 Describe how to add , modify, delete items in dictionary with example"
   ]
  },
  {
   "cell_type": "code",
   "execution_count": 28,
   "id": "d772b214",
   "metadata": {},
   "outputs": [],
   "source": [
    "dict={'name':'Supriya','city':'pune','mobileNo':'12345'}"
   ]
  },
  {
   "cell_type": "code",
   "execution_count": 29,
   "id": "072e327f",
   "metadata": {},
   "outputs": [
    {
     "data": {
      "text/plain": [
       "{'name': 'Supriya', 'city': 'pune', 'mobileNo': '12345'}"
      ]
     },
     "execution_count": 29,
     "metadata": {},
     "output_type": "execute_result"
    }
   ],
   "source": [
    "dict"
   ]
  },
  {
   "cell_type": "code",
   "execution_count": 30,
   "id": "440472d9",
   "metadata": {},
   "outputs": [
    {
     "data": {
      "text/plain": [
       "{'name': 'Supriya', 'city': 'pune', 'mobileNo': '12345', 'state': 'abc'}"
      ]
     },
     "execution_count": 30,
     "metadata": {},
     "output_type": "execute_result"
    }
   ],
   "source": [
    "#how to add items in dictionary\n",
    "dict.update({'state':'abc'})\n",
    "dict"
   ]
  },
  {
   "cell_type": "code",
   "execution_count": 31,
   "id": "a2789ece",
   "metadata": {},
   "outputs": [],
   "source": [
    "#how to modify dictionary items\n",
    "dict['name']='Ajit'"
   ]
  },
  {
   "cell_type": "code",
   "execution_count": 32,
   "id": "09adee90",
   "metadata": {},
   "outputs": [
    {
     "data": {
      "text/plain": [
       "{'name': 'Ajit', 'city': 'pune', 'mobileNo': '12345', 'state': 'abc'}"
      ]
     },
     "execution_count": 32,
     "metadata": {},
     "output_type": "execute_result"
    }
   ],
   "source": [
    "dict"
   ]
  },
  {
   "cell_type": "code",
   "execution_count": 33,
   "id": "ac8355d6",
   "metadata": {},
   "outputs": [
    {
     "data": {
      "text/plain": [
       "'pune'"
      ]
     },
     "execution_count": 33,
     "metadata": {},
     "output_type": "execute_result"
    }
   ],
   "source": [
    "#how to delete items in dictionry\n",
    "dict.pop('city')"
   ]
  },
  {
   "cell_type": "code",
   "execution_count": 34,
   "id": "84a83ab2",
   "metadata": {},
   "outputs": [
    {
     "data": {
      "text/plain": [
       "{'name': 'Ajit', 'mobileNo': '12345', 'state': 'abc'}"
      ]
     },
     "execution_count": 34,
     "metadata": {},
     "output_type": "execute_result"
    }
   ],
   "source": [
    "dict"
   ]
  },
  {
   "cell_type": "markdown",
   "id": "571da6d6",
   "metadata": {},
   "source": [
    "# Q.8 Discuss the importance of dictionry keys being immutable and provide example"
   ]
  },
  {
   "cell_type": "markdown",
   "id": "4ac1dc0c",
   "metadata": {},
   "source": [
    "Dictionry is set of key and values,\n",
    "\n",
    "where we can add ,remove and update dictionry items\n",
    "but we can't change key in dictionry ,we can remove it but cant upade it.\n",
    "\n",
    "using immutable keys in dictionaries is essential for maintaining data integrity, ensuring consistent behavior, and optimizing performance. Python restricts dictionary keys to immutable types like strings, numbers, and tuples for these reasons."
   ]
  },
  {
   "cell_type": "code",
   "execution_count": 1,
   "id": "2f15517d",
   "metadata": {},
   "outputs": [
    {
     "name": "stdout",
     "output_type": "stream",
     "text": [
      "A tuple key\n",
      "A string key\n",
      "An integer key\n",
      "unhashable type: 'list'\n",
      "Updated integer key\n"
     ]
    }
   ],
   "source": [
    "# Valid dictionary with immutable keys\n",
    "my_dict = {\n",
    "    (1, 2): \"A tuple key\",\n",
    "    \"key\": \"A string key\",\n",
    "    42: \"An integer key\"\n",
    "}\n",
    "\n",
    "print(my_dict[(1, 2)])  # Outputs: A tuple key\n",
    "print(my_dict[\"key\"])    # Outputs: A string key\n",
    "print(my_dict[42])       # Outputs: An integer key\n",
    "\n",
    "# Attempting to use a mutable key (like a list) will raise an error\n",
    "try:\n",
    "    my_dict[[1, 2]] = \"A list key\"  # This will raise a TypeError\n",
    "except TypeError as e:\n",
    "    print(e)  # Outputs: unhashable type: 'list'\n",
    "\n",
    "# Modifying an existing immutable key does not affect its ability to be a key\n",
    "my_dict[42] = \"Updated integer key\"\n",
    "print(my_dict[42])  # Outputs: Updated integer key"
   ]
  },
  {
   "cell_type": "markdown",
   "id": "b44078b9",
   "metadata": {},
   "source": [
    "# "
   ]
  }
 ],
 "metadata": {
  "kernelspec": {
   "display_name": "Python 3 (ipykernel)",
   "language": "python",
   "name": "python3"
  },
  "language_info": {
   "codemirror_mode": {
    "name": "ipython",
    "version": 3
   },
   "file_extension": ".py",
   "mimetype": "text/x-python",
   "name": "python",
   "nbconvert_exporter": "python",
   "pygments_lexer": "ipython3",
   "version": "3.9.7"
  }
 },
 "nbformat": 4,
 "nbformat_minor": 5
}
