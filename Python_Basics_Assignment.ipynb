{
 "cells": [
  {
   "cell_type": "markdown",
   "metadata": {},
   "source": [
    "# 1.Explain the key features of Python that make it a popular choice for programming."
   ]
  },
  {
   "cell_type": "markdown",
   "metadata": {
    "id": "Jaat1sCu6Flh"
   },
   "source": [
    "1. easy to understand and code\n",
    "2. easily run on any operating system\n",
    "3. have manay libraries\n",
    "4. codding is like simple english language and syntax is easy to code and undertand\n",
    "5. widely use in machine learning model\n"
   ]
  },
  {
   "cell_type": "markdown",
   "metadata": {
    "id": "ilV0PcKD8HMx"
   },
   "source": [
    "# 2.Describe the role of predefined keywords in python and provide examples of how they are used in a program.\n"
   ]
  },
  {
   "cell_type": "code",
   "execution_count": 61,
   "metadata": {
    "colab": {
     "base_uri": "https://localhost:8080/"
    },
    "id": "Fs--Ur1P9Kqq",
    "outputId": "58c30aea-15a9-4f6c-9522-625de6cf6c09"
   },
   "outputs": [
    {
     "name": "stdout",
     "output_type": "stream",
     "text": [
      "['False', 'None', 'True', 'and', 'as', 'assert', 'async', 'await', 'break', 'class', 'continue', 'def', 'del', 'elif', 'else', 'except', 'finally', 'for', 'from', 'global', 'if', 'import', 'in', 'is', 'lambda', 'nonlocal', 'not', 'or', 'pass', 'raise', 'return', 'try', 'while', 'with', 'yield']\n"
     ]
    }
   ],
   "source": [
    "#Printing keyword list\n",
    "import keyword\n",
    "print(keyword.kwlist)"
   ]
  },
  {
   "cell_type": "code",
   "execution_count": 62,
   "metadata": {
    "colab": {
     "base_uri": "https://localhost:8080/"
    },
    "id": "ILcYtDWI9o90",
    "outputId": "b2e24084-442f-48e0-fc03-b9492391afc0"
   },
   "outputs": [
    {
     "name": "stdout",
     "output_type": "stream",
     "text": [
      "positive number\n"
     ]
    }
   ],
   "source": [
    "#if else\n",
    "\n",
    "a=1\n",
    "if a>0:\n",
    "    print(\"positive number\")\n",
    "else:\n",
    "    print(\"Negative number\")"
   ]
  },
  {
   "cell_type": "code",
   "execution_count": 63,
   "metadata": {
    "colab": {
     "base_uri": "https://localhost:8080/"
    },
    "id": "EHd5OwsA_RPa",
    "outputId": "eb513165-74a3-4aeb-b1b9-aebe76c3bd72"
   },
   "outputs": [
    {
     "data": {
      "text/plain": [
       "False"
      ]
     },
     "execution_count": 63,
     "metadata": {},
     "output_type": "execute_result"
    }
   ],
   "source": [
    "# True, False, and\n",
    "True and False\n"
   ]
  },
  {
   "cell_type": "code",
   "execution_count": 64,
   "metadata": {
    "colab": {
     "base_uri": "https://localhost:8080/"
    },
    "id": "3Zm4JLz1ADdL",
    "outputId": "34a32623-a00b-4d64-96f3-f595a5f9bd33"
   },
   "outputs": [
    {
     "data": {
      "text/plain": [
       "False"
      ]
     },
     "execution_count": 64,
     "metadata": {},
     "output_type": "execute_result"
    }
   ],
   "source": [
    "#not\n",
    "not True"
   ]
  },
  {
   "cell_type": "code",
   "execution_count": 65,
   "metadata": {
    "colab": {
     "base_uri": "https://localhost:8080/"
    },
    "id": "5hRsxhFL_yeh",
    "outputId": "fcd7297d-26a0-41ce-f1a3-f9fbbe139ebf"
   },
   "outputs": [
    {
     "data": {
      "text/plain": [
       "False"
      ]
     },
     "execution_count": 65,
     "metadata": {},
     "output_type": "execute_result"
    }
   ],
   "source": [
    "# True, False, or\n",
    "True and False"
   ]
  },
  {
   "cell_type": "code",
   "execution_count": 66,
   "metadata": {
    "colab": {
     "base_uri": "https://localhost:8080/"
    },
    "id": "XZkJD2-vAI0h",
    "outputId": "fd0bb3df-31c5-4e42-e057-1a1b4a11f53c"
   },
   "outputs": [
    {
     "name": "stdout",
     "output_type": "stream",
     "text": [
      "0\n",
      "1\n",
      "2\n",
      "3\n",
      "4\n",
      "5\n",
      "6\n",
      "7\n"
     ]
    }
   ],
   "source": [
    "#breck used to breck loop and exist from loop(for ,while)\n",
    "for i in range(0,10):\n",
    "    if i==8:\n",
    "        break\n",
    "    print(i)\n"
   ]
  },
  {
   "cell_type": "code",
   "execution_count": 67,
   "metadata": {
    "colab": {
     "base_uri": "https://localhost:8080/"
    },
    "id": "1UxDZG8tAwFs",
    "outputId": "f087393e-86a8-4bf3-9239-975470e454ff"
   },
   "outputs": [
    {
     "name": "stdout",
     "output_type": "stream",
     "text": [
      "0\n",
      "1\n",
      "2\n",
      "3\n",
      "4\n",
      "5\n",
      "6\n",
      "7\n",
      "8\n",
      "9\n",
      "11\n",
      "12\n",
      "13\n",
      "14\n",
      "15\n"
     ]
    }
   ],
   "source": [
    "#continue used to skip that itteration in loop(for , while)\n",
    "for i in range(0,16):\n",
    "    if i==10:   #skipthis valse and print\n",
    "        continue\n",
    "    print(i)"
   ]
  },
  {
   "cell_type": "markdown",
   "metadata": {},
   "source": [
    "# 3. compare and contrast mutable and immutable objects in python with examples. "
   ]
  },
  {
   "cell_type": "markdown",
   "metadata": {
    "id": "8i494-QiC4m8"
   },
   "source": [
    "\n",
    "Mutable objects in python are:\n",
    "1. List\n",
    "2. set\n",
    "3. Dictionary\n",
    "\n",
    "\n",
    "immutable objects in python are:\n",
    "1. tuple \n",
    "2. string\n"
   ]
  },
  {
   "cell_type": "code",
   "execution_count": 68,
   "metadata": {
    "colab": {
     "base_uri": "https://localhost:8080/"
    },
    "id": "7ZXyHukfEGcl",
    "outputId": "7356b1c9-6a64-4dee-85a6-ca2be3cffb7d"
   },
   "outputs": [
    {
     "name": "stdout",
     "output_type": "stream",
     "text": [
      "[1, 0, 33]\n"
     ]
    }
   ],
   "source": [
    "# List\n",
    "list=[1,22,33]\n",
    "list.insert(1,0)\n",
    "list.remove(22)\n",
    "print(list)"
   ]
  },
  {
   "cell_type": "code",
   "execution_count": 69,
   "metadata": {
    "colab": {
     "base_uri": "https://localhost:8080/"
    },
    "id": "X14OuTqwEw4b",
    "outputId": "e904a57a-bd6e-452f-9a91-078b0e8c4fef"
   },
   "outputs": [
    {
     "name": "stdout",
     "output_type": "stream",
     "text": [
      "(1, 2, 3)\n"
     ]
    }
   ],
   "source": [
    "#tuple\n",
    "tuple=(1,2,3)\n",
    "#tuple.inset(1)  # cant insert or any update operation perform\n",
    "print(tuple)"
   ]
  },
  {
   "cell_type": "code",
   "execution_count": 70,
   "metadata": {
    "colab": {
     "base_uri": "https://localhost:8080/"
    },
    "id": "qFoKtkRWbWMn",
    "outputId": "02918a58-e436-4fcb-e4c0-75d3ebe3c42e"
   },
   "outputs": [
    {
     "name": "stdout",
     "output_type": "stream",
     "text": [
      "{1, 'apple', 100, 'cat', 22}\n"
     ]
    }
   ],
   "source": [
    "#Set - duplicates not allowed,mutable\n",
    "set={1,\"apple\",\"cat\",100}\n",
    "set.add(22)\n",
    "print(set)"
   ]
  },
  {
   "cell_type": "code",
   "execution_count": 71,
   "metadata": {
    "colab": {
     "base_uri": "https://localhost:8080/"
    },
    "id": "DfFLNxiGdXFm",
    "outputId": "e2de6dd4-cd7e-4ab2-caf0-a2dfe3caba84"
   },
   "outputs": [
    {
     "name": "stdout",
     "output_type": "stream",
     "text": [
      "{'student': 'Supriya', 'roll_no': '101', 'class': '12', 'rank': 'first class'}\n"
     ]
    }
   ],
   "source": [
    "#Dictionary\n",
    "dic ={\n",
    "    \"student\" :\"Supriya\",\n",
    "    \"roll_no\":\"101\",\n",
    "    \"class\":\"12\"\n",
    "}\n",
    "dic[\"rank\"]=\"first class\"\n",
    "print(dic)\n"
   ]
  },
  {
   "cell_type": "markdown",
   "metadata": {
    "id": "OUhJDDwVep5k"
   },
   "source": [
    "# 4.Discuss different types of operators in python and provide examples of how they are used."
   ]
  },
  {
   "cell_type": "markdown",
   "metadata": {},
   "source": [
    "1.Arrithmetic operaters:\n",
    "  1.1  Addition\n",
    "  1.2  Sunstraction\n",
    "  1.3 Multiplication\n",
    "  1.4 Substraction\n",
    "  1.5 floor divion\n",
    "  1.6 Modulas\n",
    "  1.7 Exponentional\n",
    " \n",
    "2.Comparison operaters:\n",
    "  2.1 Is equal to\n",
    "  2.2 Is not equal to\n",
    "  2.3 greater than\n",
    "  2.4 less than\n",
    "  2.5 graeter than or equal to\n",
    "  2.6 less than or equal to\n",
    "  \n",
    "3.Logical operators\n",
    "  3.1 AND \n",
    "  3.2 OR\n",
    "  3.3 NOT\n",
    "\n",
    "4.Identity operators:\n",
    "  4.1 IS\n",
    "  4.2 IS NOT\n",
    "  \n",
    "5.Membership operater:\n",
    "  5.1 IN\n",
    "  5.2 Not IN\n",
    "  \n",
    "6.Bitwise operaters - compair binary numbers:\n",
    "  6.1 AND\n",
    "  6.2 OR\n",
    "  6.3 NOT\n",
    "  6.4 XOR\n",
    "  \n",
    "  \n",
    "  "
   ]
  },
  {
   "cell_type": "code",
   "execution_count": 72,
   "metadata": {
    "colab": {
     "base_uri": "https://localhost:8080/"
    },
    "id": "jMPEmP5Ae_9d",
    "outputId": "2f127254-72f1-4c77-db9b-0fc48a25e4e0"
   },
   "outputs": [
    {
     "name": "stdout",
     "output_type": "stream",
     "text": [
      "17\n"
     ]
    }
   ],
   "source": [
    "\n",
    "#Additon +\n",
    "x=10\n",
    "y=7\n",
    "print(x+y)"
   ]
  },
  {
   "cell_type": "code",
   "execution_count": 73,
   "metadata": {
    "colab": {
     "base_uri": "https://localhost:8080/"
    },
    "id": "U_F4HuyXhOH7",
    "outputId": "a93230f2-050d-4eab-ca9b-a8ec0aa94895"
   },
   "outputs": [
    {
     "name": "stdout",
     "output_type": "stream",
     "text": [
      "3\n"
     ]
    }
   ],
   "source": [
    "#Subtraction\n",
    "print(x-y)"
   ]
  },
  {
   "cell_type": "code",
   "execution_count": 74,
   "metadata": {
    "colab": {
     "base_uri": "https://localhost:8080/"
    },
    "id": "tmO8J40ehSEa",
    "outputId": "04a4d205-c05c-4bb6-a17a-266f2d2256d5"
   },
   "outputs": [
    {
     "name": "stdout",
     "output_type": "stream",
     "text": [
      "70\n"
     ]
    }
   ],
   "source": [
    "#Multiplication\n",
    "print(x*y)"
   ]
  },
  {
   "cell_type": "code",
   "execution_count": 75,
   "metadata": {
    "colab": {
     "base_uri": "https://localhost:8080/"
    },
    "id": "ABGI4ellhUM5",
    "outputId": "0f8b4cf6-9f3e-45c8-fcea-a081b3aed271"
   },
   "outputs": [
    {
     "name": "stdout",
     "output_type": "stream",
     "text": [
      "1.4285714285714286\n"
     ]
    }
   ],
   "source": [
    "#Division\n",
    "print(x/y)"
   ]
  },
  {
   "cell_type": "code",
   "execution_count": 76,
   "metadata": {
    "colab": {
     "base_uri": "https://localhost:8080/"
    },
    "id": "j5e2o1T2hURD",
    "outputId": "a1c6f26e-7429-4e0b-c2d5-e405472517f2"
   },
   "outputs": [
    {
     "name": "stdout",
     "output_type": "stream",
     "text": [
      "1\n"
     ]
    }
   ],
   "source": [
    "#floor divion\n",
    "print(x//y)"
   ]
  },
  {
   "cell_type": "code",
   "execution_count": 77,
   "metadata": {
    "colab": {
     "base_uri": "https://localhost:8080/"
    },
    "id": "EXltYOqUhUVB",
    "outputId": "539e9ec0-2de1-439d-9950-210eb121c6ee"
   },
   "outputs": [
    {
     "name": "stdout",
     "output_type": "stream",
     "text": [
      "3\n"
     ]
    }
   ],
   "source": [
    "#Modulas\n",
    "print(x%y)"
   ]
  },
  {
   "cell_type": "code",
   "execution_count": 78,
   "metadata": {
    "colab": {
     "base_uri": "https://localhost:8080/"
    },
    "id": "IjBN6Fn6hUZq",
    "outputId": "359c6911-2552-41dd-d55b-b18e89656790"
   },
   "outputs": [
    {
     "name": "stdout",
     "output_type": "stream",
     "text": [
      "10000000\n"
     ]
    }
   ],
   "source": [
    "#Exponentional\n",
    "print(x**y)"
   ]
  },
  {
   "cell_type": "code",
   "execution_count": 79,
   "metadata": {
    "colab": {
     "base_uri": "https://localhost:8080/"
    },
    "id": "ampAM9x4g5AX",
    "outputId": "4516fbbd-a796-4849-c7da-ab86f82418e7"
   },
   "outputs": [
    {
     "name": "stdout",
     "output_type": "stream",
     "text": [
      "False\n"
     ]
    }
   ],
   "source": [
    "#Comparison operaters\n",
    "#==\n",
    "a=1\n",
    "b=2\n",
    "print(a==b)"
   ]
  },
  {
   "cell_type": "code",
   "execution_count": 80,
   "metadata": {
    "colab": {
     "base_uri": "https://localhost:8080/"
    },
    "id": "5HyalkLwhlX3",
    "outputId": "f16051f8-0b58-44b8-f127-6ca0030a8c90"
   },
   "outputs": [
    {
     "name": "stdout",
     "output_type": "stream",
     "text": [
      "True\n"
     ]
    }
   ],
   "source": [
    "#!=\n",
    "print(a!=b)"
   ]
  },
  {
   "cell_type": "code",
   "execution_count": 81,
   "metadata": {
    "colab": {
     "base_uri": "https://localhost:8080/"
    },
    "id": "fC5xQAd0hutT",
    "outputId": "161f07bb-d233-44b4-ac8e-7ccec3bccb22"
   },
   "outputs": [
    {
     "data": {
      "text/plain": [
       "True"
      ]
     },
     "execution_count": 81,
     "metadata": {},
     "output_type": "execute_result"
    }
   ],
   "source": [
    "#>\n",
    "a=10\n",
    "b=30\n",
    "b>a"
   ]
  },
  {
   "cell_type": "code",
   "execution_count": 82,
   "metadata": {
    "colab": {
     "base_uri": "https://localhost:8080/"
    },
    "id": "eUGu5nYEiLbR",
    "outputId": "5bb71f4b-ecb5-4957-cda2-3760fedb25a5"
   },
   "outputs": [
    {
     "data": {
      "text/plain": [
       "True"
      ]
     },
     "execution_count": 82,
     "metadata": {},
     "output_type": "execute_result"
    }
   ],
   "source": [
    "#<\n",
    "a<b"
   ]
  },
  {
   "cell_type": "code",
   "execution_count": 83,
   "metadata": {
    "colab": {
     "base_uri": "https://localhost:8080/"
    },
    "id": "O3l_9_hviQTE",
    "outputId": "1a21eb73-6395-4ad1-f5fa-77f1f61a936b"
   },
   "outputs": [
    {
     "name": "stdout",
     "output_type": "stream",
     "text": [
      "0\n",
      "1\n",
      "2\n",
      "3\n"
     ]
    }
   ],
   "source": [
    "#<=\n",
    "for i in range(0,5):\n",
    "    if i<=3:\n",
    "        print(i)"
   ]
  },
  {
   "cell_type": "code",
   "execution_count": 84,
   "metadata": {
    "colab": {
     "base_uri": "https://localhost:8080/"
    },
    "id": "aek77UhoivPT",
    "outputId": "54531d58-8517-43bc-db18-a5b146bc154a"
   },
   "outputs": [
    {
     "data": {
      "text/plain": [
       "True"
      ]
     },
     "execution_count": 84,
     "metadata": {},
     "output_type": "execute_result"
    }
   ],
   "source": [
    "#>=\n",
    "x=3\n",
    "y=7\n",
    "y>=x"
   ]
  },
  {
   "cell_type": "code",
   "execution_count": 85,
   "metadata": {
    "colab": {
     "base_uri": "https://localhost:8080/"
    },
    "id": "sErqNV9kiR1z",
    "outputId": "4ff733e8-6eef-467e-bdfd-885665d5e96f"
   },
   "outputs": [
    {
     "data": {
      "text/plain": [
       "True"
      ]
     },
     "execution_count": 85,
     "metadata": {},
     "output_type": "execute_result"
    }
   ],
   "source": [
    "#Logical operaters\n",
    "#and,or ,not\n",
    "\n",
    "#and - both are true then only output is true\n",
    "True and True"
   ]
  },
  {
   "cell_type": "code",
   "execution_count": 86,
   "metadata": {
    "colab": {
     "base_uri": "https://localhost:8080/"
    },
    "id": "Yy_0n_hbi7I6",
    "outputId": "73442092-2e45-4aa5-967f-33b30c9d8398"
   },
   "outputs": [
    {
     "data": {
      "text/plain": [
       "False"
      ]
     },
     "execution_count": 86,
     "metadata": {},
     "output_type": "execute_result"
    }
   ],
   "source": [
    "True and False"
   ]
  },
  {
   "cell_type": "code",
   "execution_count": 87,
   "metadata": {
    "colab": {
     "base_uri": "https://localhost:8080/"
    },
    "id": "_swusWKEjHqE",
    "outputId": "ed06f688-4c9e-443e-f26f-c0602fa53e07"
   },
   "outputs": [
    {
     "data": {
      "text/plain": [
       "True"
      ]
     },
     "execution_count": 87,
     "metadata": {},
     "output_type": "execute_result"
    }
   ],
   "source": [
    "#or # returns true when any one is true\n",
    "False or True"
   ]
  },
  {
   "cell_type": "code",
   "execution_count": 88,
   "metadata": {
    "colab": {
     "base_uri": "https://localhost:8080/"
    },
    "id": "QmvPDwCcjwBA",
    "outputId": "1da1001f-fb4b-4fb8-ae18-845ddb552c18"
   },
   "outputs": [
    {
     "data": {
      "text/plain": [
       "False"
      ]
     },
     "execution_count": 88,
     "metadata": {},
     "output_type": "execute_result"
    }
   ],
   "source": [
    "# not - reverse the condition\n",
    "not True"
   ]
  },
  {
   "cell_type": "code",
   "execution_count": 89,
   "metadata": {
    "colab": {
     "base_uri": "https://localhost:8080/"
    },
    "id": "9hmKObrtjLsv",
    "outputId": "068afbbe-4b66-4a38-96d4-be7d1c2d25e0"
   },
   "outputs": [
    {
     "data": {
      "text/plain": [
       "False"
      ]
     },
     "execution_count": 89,
     "metadata": {},
     "output_type": "execute_result"
    }
   ],
   "source": [
    "#identity operaters\n",
    "#is\n",
    "# is not\n",
    "\n",
    "x=10\n",
    "b=20\n",
    "x is b"
   ]
  },
  {
   "cell_type": "code",
   "execution_count": 90,
   "metadata": {
    "colab": {
     "base_uri": "https://localhost:8080/"
    },
    "id": "9mrzvN6akLdJ",
    "outputId": "d7dca9d3-4273-40c3-9586-c3d3f709f6b1"
   },
   "outputs": [
    {
     "data": {
      "text/plain": [
       "True"
      ]
     },
     "execution_count": 90,
     "metadata": {},
     "output_type": "execute_result"
    }
   ],
   "source": [
    "x is not b"
   ]
  },
  {
   "cell_type": "code",
   "execution_count": 91,
   "metadata": {
    "colab": {
     "base_uri": "https://localhost:8080/"
    },
    "id": "YvWSC9wukN8P",
    "outputId": "d40f1e3f-7ce3-478a-a5d2-fb3228decaaa"
   },
   "outputs": [
    {
     "data": {
      "text/plain": [
       "True"
      ]
     },
     "execution_count": 91,
     "metadata": {},
     "output_type": "execute_result"
    }
   ],
   "source": [
    "# Membership operater\n",
    "# in\n",
    "#not in\n",
    "\n",
    "list=[1,2,3]\n",
    "1 in list"
   ]
  },
  {
   "cell_type": "code",
   "execution_count": 92,
   "metadata": {
    "colab": {
     "base_uri": "https://localhost:8080/"
    },
    "id": "IibCnZkBkfBT",
    "outputId": "dc5f3dd6-0971-4ae7-aee7-cbe432012cbe"
   },
   "outputs": [
    {
     "data": {
      "text/plain": [
       "True"
      ]
     },
     "execution_count": 92,
     "metadata": {},
     "output_type": "execute_result"
    }
   ],
   "source": [
    "88 not in list"
   ]
  },
  {
   "cell_type": "code",
   "execution_count": 93,
   "metadata": {
    "colab": {
     "base_uri": "https://localhost:8080/"
    },
    "id": "-L_0q99ukk1_",
    "outputId": "9dcd30d5-8091-45fc-989e-a0b827b633ce"
   },
   "outputs": [
    {
     "name": "stdout",
     "output_type": "stream",
     "text": [
      "2\n"
     ]
    }
   ],
   "source": [
    "#Bitwise operaters - compair binary numbers\n",
    "# &\n",
    "print(3&2)"
   ]
  },
  {
   "cell_type": "code",
   "execution_count": 94,
   "metadata": {
    "colab": {
     "base_uri": "https://localhost:8080/"
    },
    "id": "cPmi-DnBlOgo",
    "outputId": "898c3e61-3d17-4f3d-d3d0-707b4606caad"
   },
   "outputs": [
    {
     "name": "stdout",
     "output_type": "stream",
     "text": [
      "15\n"
     ]
    }
   ],
   "source": [
    "#|\n",
    "print(7 | 9)"
   ]
  },
  {
   "cell_type": "code",
   "execution_count": 95,
   "metadata": {
    "colab": {
     "base_uri": "https://localhost:8080/"
    },
    "id": "EmIs-_5mljQA",
    "outputId": "bab74247-26be-4f56-8749-5cc0b0dea2ca"
   },
   "outputs": [
    {
     "name": "stdout",
     "output_type": "stream",
     "text": [
      "28\n"
     ]
    }
   ],
   "source": [
    "#XOR\n",
    "print(30^2)"
   ]
  },
  {
   "cell_type": "code",
   "execution_count": 96,
   "metadata": {
    "colab": {
     "base_uri": "https://localhost:8080/"
    },
    "id": "lKevk2FZluR0",
    "outputId": "95f11ed1-7c2e-4273-c6ff-0818fd4cc197"
   },
   "outputs": [
    {
     "name": "stdout",
     "output_type": "stream",
     "text": [
      "-6\n"
     ]
    }
   ],
   "source": [
    "#NOT\n",
    "print(~5)"
   ]
  },
  {
   "cell_type": "markdown",
   "metadata": {
    "id": "skAsvzP5mGsY"
   },
   "source": [
    "# 5.Explain the concept of type casting in python with examples"
   ]
  },
  {
   "cell_type": "code",
   "execution_count": 97,
   "metadata": {
    "colab": {
     "base_uri": "https://localhost:8080/"
    },
    "id": "Q8mqB5fAmSPr",
    "outputId": "94a03205-570c-4197-e428-b9b6ad2aead4"
   },
   "outputs": [
    {
     "data": {
      "text/plain": [
       "int"
      ]
     },
     "execution_count": 97,
     "metadata": {},
     "output_type": "execute_result"
    }
   ],
   "source": [
    "#Implicit - python convert one datatype into another data type automaticaly,no any user interface\n",
    "x=20\n",
    "type(x)"
   ]
  },
  {
   "cell_type": "code",
   "execution_count": 98,
   "metadata": {
    "colab": {
     "base_uri": "https://localhost:8080/"
    },
    "id": "wKBpSqx1nQc7",
    "outputId": "25b37b60-c897-425f-b315-7eac6616a8f1"
   },
   "outputs": [
    {
     "data": {
      "text/plain": [
       "int"
      ]
     },
     "execution_count": 98,
     "metadata": {},
     "output_type": "execute_result"
    }
   ],
   "source": [
    "#Explicite - user assign data type\n",
    "a=int(\"77\")\n",
    "type(a)\n"
   ]
  },
  {
   "cell_type": "markdown",
   "metadata": {
    "id": "46O_cZUeoTb3"
   },
   "source": [
    "# 6.How do condiional statements work in python?Illustrate with examples."
   ]
  },
  {
   "cell_type": "code",
   "execution_count": 99,
   "metadata": {
    "colab": {
     "base_uri": "https://localhost:8080/"
    },
    "id": "4xs1E3HnocLD",
    "outputId": "b3d132aa-1767-4b3c-b796-a9cab7bee167"
   },
   "outputs": [
    {
     "name": "stdout",
     "output_type": "stream",
     "text": [
      "Positive number\n"
     ]
    }
   ],
   "source": [
    "# if statement\n",
    "a=10\n",
    "if a >0 :\n",
    "    print(\"Positive number\")"
   ]
  },
  {
   "cell_type": "code",
   "execution_count": 100,
   "metadata": {
    "colab": {
     "base_uri": "https://localhost:8080/"
    },
    "id": "B8oSuwUfo8mo",
    "outputId": "effee38a-17d6-44ae-a442-fe5d7212a1d4"
   },
   "outputs": [
    {
     "name": "stdout",
     "output_type": "stream",
     "text": [
      "Negative Number \n"
     ]
    }
   ],
   "source": [
    "#if else statement\n",
    "a=-1\n",
    "if a>0 :\n",
    "    print(\"Positive number\")\n",
    "else:\n",
    "    print(\"Negative Number \")\n"
   ]
  },
  {
   "cell_type": "markdown",
   "metadata": {
    "id": "juNHkQKlq7Vm"
   },
   "source": [
    "# 7.Desribe the different types of loops in python and their use cases with examples"
   ]
  },
  {
   "cell_type": "code",
   "execution_count": 101,
   "metadata": {
    "colab": {
     "base_uri": "https://localhost:8080/"
    },
    "id": "nUVAeVJ7rA7z",
    "outputId": "36854b44-dc8b-4a68-9c70-9e2fa8458ea2"
   },
   "outputs": [
    {
     "name": "stdout",
     "output_type": "stream",
     "text": [
      "0\n",
      "2\n",
      "4\n",
      "6\n",
      "8\n"
     ]
    }
   ],
   "source": [
    "#for loop\n",
    "for i in range(0,10):\n",
    "    if i%2==0:\n",
    "        print(i)\n"
   ]
  },
  {
   "cell_type": "code",
   "execution_count": 102,
   "metadata": {
    "colab": {
     "base_uri": "https://localhost:8080/"
    },
    "id": "3qsi3BlerSrF",
    "outputId": "b29afd6f-e94d-4ad8-c3a0-aa869cbcbcf3"
   },
   "outputs": [
    {
     "name": "stdout",
     "output_type": "stream",
     "text": [
      "1\n",
      "2\n",
      "3\n",
      "4\n",
      "5\n",
      "6\n",
      "7\n",
      "8\n",
      "9\n"
     ]
    }
   ],
   "source": [
    "#while loop\n",
    "i=1\n",
    "while i<10 :\n",
    "    print(i)\n",
    "    i+=1"
   ]
  }
 ],
 "metadata": {
  "colab": {
   "provenance": []
  },
  "kernelspec": {
   "display_name": "Python 3 (ipykernel)",
   "language": "python",
   "name": "python3"
  },
  "language_info": {
   "codemirror_mode": {
    "name": "ipython",
    "version": 3
   },
   "file_extension": ".py",
   "mimetype": "text/x-python",
   "name": "python",
   "nbconvert_exporter": "python",
   "pygments_lexer": "ipython3",
   "version": "3.9.7"
  }
 },
 "nbformat": 4,
 "nbformat_minor": 1
}
