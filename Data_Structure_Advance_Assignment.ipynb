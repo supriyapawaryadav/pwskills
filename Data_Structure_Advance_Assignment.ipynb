{
 "cells": [
  {
   "cell_type": "markdown",
   "id": "7521e8f5",
   "metadata": {},
   "source": [
    "# Q.1 Write code to reverse a string"
   ]
  },
  {
   "cell_type": "code",
   "execution_count": 1,
   "id": "bd7d204d",
   "metadata": {},
   "outputs": [
    {
     "name": "stdout",
     "output_type": "stream",
     "text": [
      "sllikswp\n"
     ]
    }
   ],
   "source": [
    "word=\"pwskills\"\n",
    "reverse_word=word[::-1]\n",
    "print(reverse_word)"
   ]
  },
  {
   "cell_type": "markdown",
   "id": "78fd60a3",
   "metadata": {},
   "source": [
    "# Q.2 write a code to count the numbers of vowels in string"
   ]
  },
  {
   "cell_type": "code",
   "execution_count": 2,
   "id": "304202a3",
   "metadata": {},
   "outputs": [
    {
     "name": "stdout",
     "output_type": "stream",
     "text": [
      "Enter a string =Supriya\n",
      "Number od vowels in given string 3\n"
     ]
    }
   ],
   "source": [
    "vowels=\"aeiouAEIOU\"\n",
    "input_string=input(\"Enter a string =\")\n",
    "count=0\n",
    "i=0\n",
    "for i in range(len(input_string)):\n",
    "    if input_string[i] in vowels:\n",
    "        count +=1\n",
    "print(\"Number od vowels in given string\",count)"
   ]
  },
  {
   "cell_type": "markdown",
   "id": "5f519eec",
   "metadata": {},
   "source": [
    "# Q.3 write a code to check given string is palindrome or not."
   ]
  },
  {
   "cell_type": "code",
   "execution_count": 3,
   "id": "cf4f639e",
   "metadata": {},
   "outputs": [
    {
     "name": "stdout",
     "output_type": "stream",
     "text": [
      "Enter a string=madam\n",
      "Yes ,Given string is paliendrom\n"
     ]
    }
   ],
   "source": [
    "a=input(\"Enter a string=\")\n",
    "b=\"\"\n",
    "for i in a:\n",
    "    b = i + b\n",
    "if (a == b):\n",
    "    print(\"Yes ,Given string is paliendrom\")\n",
    "else:\n",
    "    print(\"Not paliendrom\")"
   ]
  },
  {
   "cell_type": "code",
   "execution_count": 4,
   "id": "c36b97eb",
   "metadata": {},
   "outputs": [
    {
     "name": "stdout",
     "output_type": "stream",
     "text": [
      "Enter string=go\n",
      "Reversed string : og\n",
      "Not paliendrom\n"
     ]
    }
   ],
   "source": [
    "d=input(\"Enter string=\")\n",
    "rev_d=\"\"\n",
    "\n",
    "for i in d:\n",
    "    rev_d=i+rev_d\n",
    "print(\"Reversed string :\",rev_d)\n",
    "\n",
    "if(d==rev_d):\n",
    "    print(\"Yes ,Given string is paliendrom\")\n",
    "else:\n",
    "    print(\"Not paliendrom\")"
   ]
  },
  {
   "cell_type": "markdown",
   "id": "f880543a",
   "metadata": {},
   "source": [
    "# Q.4 write a code to check if two given strings are anagrams of each other"
   ]
  },
  {
   "cell_type": "code",
   "execution_count": 5,
   "id": "3a6a8249",
   "metadata": {},
   "outputs": [
    {
     "name": "stdout",
     "output_type": "stream",
     "text": [
      "Given two strings are anagrams\n"
     ]
    }
   ],
   "source": [
    "str1=\"priya\"\n",
    "str2=\"aypri\"\n",
    "if (len(str1) == len(str2)):\n",
    "    print(\"Given two strings are anagrams\")\n",
    "else:\n",
    "    print(\"Not anagrams\")"
   ]
  },
  {
   "cell_type": "markdown",
   "id": "9a90f436",
   "metadata": {},
   "source": [
    "# Q.5 write a code to find all occurences of a given substring within another string"
   ]
  },
  {
   "cell_type": "code",
   "execution_count": 6,
   "id": "7e797a43",
   "metadata": {},
   "outputs": [
    {
     "name": "stdout",
     "output_type": "stream",
     "text": [
      "Number of times sub string occurs = 2\n"
     ]
    }
   ],
   "source": [
    "string=\"yes its sunny yes its vey hot summmer\"\n",
    "sub_string=\"yes\"\n",
    "count=string.count(sub_string)\n",
    "print(\"Number of times sub string occurs =\",count)"
   ]
  },
  {
   "cell_type": "markdown",
   "id": "75fad788",
   "metadata": {},
   "source": [
    "# Q.6 Write code to perform basic string compression using the counts of repeated characters."
   ]
  },
  {
   "cell_type": "code",
   "execution_count": 7,
   "id": "0617eda9",
   "metadata": {},
   "outputs": [
    {
     "name": "stdout",
     "output_type": "stream",
     "text": [
      "Compressed string: a3b3c2d1a2\n"
     ]
    }
   ],
   "source": [
    "def compress_string(input_string):\n",
    "    if not input_string:  # Handle empty string case\n",
    "        return \"\"\n",
    "    \n",
    "    compressed = []\n",
    "    count = 1  # Initialize count of repeated characters\n",
    "    \n",
    "    # Iterate through the string\n",
    "    for i in range(1, len(input_string)):\n",
    "        if input_string[i] == input_string[i - 1]:\n",
    "            count += 1  # Increment count if the same character is found\n",
    "        else:\n",
    "            # Append the character and its count to the compressed list\n",
    "            compressed.append(input_string[i - 1] + str(count))\n",
    "            count = 1  # Reset count for the new character\n",
    "    \n",
    "    # Append the last character and its count\n",
    "    compressed.append(input_string[-1] + str(count))\n",
    "    \n",
    "    # Join the list into a string\n",
    "    compressed_string = ''.join(compressed)\n",
    "    \n",
    "    # Return the compressed string, or the original string if compressed is not shorter\n",
    "    return compressed_string if len(compressed_string) < len(input_string) else input_string\n",
    "\n",
    "input_str = \"aaabbbccdaa\"\n",
    "compressed_str = compress_string(input_str)\n",
    "print(\"Compressed string:\", compressed_str)"
   ]
  },
  {
   "cell_type": "markdown",
   "id": "10ea8171",
   "metadata": {},
   "source": [
    "# Q.7 write a code to determine if a string has all unique characters."
   ]
  },
  {
   "cell_type": "code",
   "execution_count": 8,
   "id": "82155708",
   "metadata": {},
   "outputs": [
    {
     "name": "stdout",
     "output_type": "stream",
     "text": [
      "True\n"
     ]
    }
   ],
   "source": [
    "str=\"gift\"\n",
    "x=\"\"\n",
    "for i in str:\n",
    "    if i not in x:\n",
    "        x+=i\n",
    "if(x==str):\n",
    "    print(True)\n",
    "else:\n",
    "    print(False)"
   ]
  },
  {
   "cell_type": "code",
   "execution_count": 9,
   "id": "fb930b5e",
   "metadata": {},
   "outputs": [
    {
     "name": "stdout",
     "output_type": "stream",
     "text": [
      "False\n"
     ]
    }
   ],
   "source": [
    "a=\"123334\"\n",
    "b=\"\"\n",
    "x=list(set(a))\n",
    "y=list(set(b))\n",
    "x.sort()\n",
    "y.sort()\n",
    "if x==y:\n",
    "    print(True)\n",
    "else:\n",
    "    print(False)"
   ]
  },
  {
   "cell_type": "markdown",
   "id": "152140ed",
   "metadata": {},
   "source": [
    "# Q.8 write a code to convert a given string to upercase or lowercase."
   ]
  },
  {
   "cell_type": "code",
   "execution_count": 10,
   "id": "ca74e475",
   "metadata": {},
   "outputs": [
    {
     "name": "stdout",
     "output_type": "stream",
     "text": [
      "Enter string= pwskills\n",
      "Coverting a given string to uppercase = PWSKILLS\n",
      "Coverting a given string tolowercase = pwskills\n"
     ]
    }
   ],
   "source": [
    "str=input(\"Enter string= \")\n",
    "print(\"Coverting a given string to uppercase =\",str.upper())\n",
    "print(\"Coverting a given string tolowercase =\",str.lower())\n"
   ]
  },
  {
   "cell_type": "markdown",
   "id": "17c9b9a2",
   "metadata": {},
   "source": [
    "# Q.9 Write a code to count the number of words in string"
   ]
  },
  {
   "cell_type": "code",
   "execution_count": 11,
   "id": "0b360f74",
   "metadata": {},
   "outputs": [
    {
     "name": "stdout",
     "output_type": "stream",
     "text": [
      "Total number of words in string are = 7\n"
     ]
    }
   ],
   "source": [
    "str=len(\"Good morning to all students in class\".split())\n",
    "\n",
    "print(\"Total number of words in string are =\",str)"
   ]
  },
  {
   "cell_type": "markdown",
   "id": "a30ff9b2",
   "metadata": {},
   "source": [
    "# Q.10 write a code to concatinate two string without using + operator"
   ]
  },
  {
   "cell_type": "code",
   "execution_count": 12,
   "id": "6a39db5e",
   "metadata": {},
   "outputs": [
    {
     "name": "stdout",
     "output_type": "stream",
     "text": [
      "concatination of two string = Hi Ajit\n"
     ]
    }
   ],
   "source": [
    "str1=\"Hi\"\n",
    "str2=\"Ajit\"\n",
    "a=\" \".join([str1,str2])\n",
    "print(\"concatination of two string =\",a)"
   ]
  },
  {
   "cell_type": "markdown",
   "id": "af601f30",
   "metadata": {},
   "source": [
    "# Q.11 write code to remove all occurences of specific element from list"
   ]
  },
  {
   "cell_type": "code",
   "execution_count": 13,
   "id": "7efd0f7e",
   "metadata": {},
   "outputs": [
    {
     "data": {
      "text/plain": [
       "[2, 3, 4]"
      ]
     },
     "execution_count": 13,
     "metadata": {},
     "output_type": "execute_result"
    }
   ],
   "source": [
    "lst=[1,2,1,1,3,4]\n",
    "list(filter(lambda a: a != 1,lst))\n"
   ]
  },
  {
   "cell_type": "markdown",
   "id": "daf97fbc",
   "metadata": {},
   "source": [
    "# Q.12 Implement a code to find second largest number in a given list of integers "
   ]
  },
  {
   "cell_type": "code",
   "execution_count": 14,
   "id": "b06a50ca",
   "metadata": {},
   "outputs": [
    {
     "name": "stdout",
     "output_type": "stream",
     "text": [
      "Second largest number of list=  33\n"
     ]
    }
   ],
   "source": [
    "lst=[44,11,22,33]\n",
    "lst.sort()\n",
    "print(\"Second largest number of list= \",lst[-2])"
   ]
  },
  {
   "cell_type": "markdown",
   "id": "3893cccc",
   "metadata": {},
   "source": [
    "# Q.13 create a code to count the occurence of each element in list and returm dictionary with elemnets as keys and their counts as value."
   ]
  },
  {
   "cell_type": "code",
   "execution_count": 15,
   "id": "2554dc6a",
   "metadata": {},
   "outputs": [
    {
     "name": "stdout",
     "output_type": "stream",
     "text": [
      "{20: 3, 30: 1, 40: 1}\n"
     ]
    }
   ],
   "source": [
    "l=[20,30,40,20,20]\n",
    "d={x:l.count(x) for x in l}\n",
    "print(d)"
   ]
  },
  {
   "cell_type": "markdown",
   "id": "20d556bb",
   "metadata": {},
   "source": [
    "# Q.14 write a code to reverse a list in place without using built in reverse function"
   ]
  },
  {
   "cell_type": "code",
   "execution_count": 16,
   "id": "95d43e1c",
   "metadata": {},
   "outputs": [
    {
     "name": "stdout",
     "output_type": "stream",
     "text": [
      "Reverse of list  [3, 2, 1]\n"
     ]
    }
   ],
   "source": [
    "l=[1,2,3]\n",
    "b=l[::-1]\n",
    "print(\"Reverse of list \",b)"
   ]
  },
  {
   "cell_type": "markdown",
   "id": "5fd035ea",
   "metadata": {},
   "source": [
    "# Q.15 Implement a code to find and remove duplicates from a list while preserving the original order of elements."
   ]
  },
  {
   "cell_type": "code",
   "execution_count": 17,
   "id": "2189c391",
   "metadata": {},
   "outputs": [
    {
     "data": {
      "text/plain": [
       "[1, 2, 3, 4, 6]"
      ]
     },
     "execution_count": 17,
     "metadata": {},
     "output_type": "execute_result"
    }
   ],
   "source": [
    "l=[1,2,3,1,4,6,1]\n",
    "list(set(l))"
   ]
  },
  {
   "cell_type": "markdown",
   "id": "259b3fc2",
   "metadata": {},
   "source": [
    "# Q.16  Create a code to check if a given list is sorted (either in ascending or descending order) or not\u0012"
   ]
  },
  {
   "cell_type": "code",
   "execution_count": 18,
   "id": "0b8f945c",
   "metadata": {},
   "outputs": [
    {
     "name": "stdout",
     "output_type": "stream",
     "text": [
      "list is not sorted\n"
     ]
    }
   ],
   "source": [
    "a=[44,11,22,33]\n",
    "if (all(a[i]<= a[i+1] for i in range(len(a)-1))):\n",
    "    print(\"Sorted list \")\n",
    "else:\n",
    "    print(\"list is not sorted\")"
   ]
  },
  {
   "cell_type": "markdown",
   "id": "19979529",
   "metadata": {},
   "source": [
    "# Q.17. write code to merge two sorted list into single sorted list."
   ]
  },
  {
   "cell_type": "code",
   "execution_count": 19,
   "id": "85788f8c",
   "metadata": {},
   "outputs": [
    {
     "data": {
      "text/plain": [
       "[1, 1, 2, 3, 33, 45, 77]"
      ]
     },
     "execution_count": 19,
     "metadata": {},
     "output_type": "execute_result"
    }
   ],
   "source": [
    "l1=[33,1,2,3]\n",
    "l2=[77,45,1]\n",
    "l1.sort()\n",
    "l2.sort()\n",
    "a=l1+l2\n",
    "a.sort()\n",
    "a"
   ]
  },
  {
   "cell_type": "markdown",
   "id": "267661f1",
   "metadata": {},
   "source": [
    "# Q.18.Implement code to find the intersection of two given lists"
   ]
  },
  {
   "cell_type": "code",
   "execution_count": 20,
   "id": "869883f0",
   "metadata": {},
   "outputs": [
    {
     "name": "stdout",
     "output_type": "stream",
     "text": [
      "Intersection of two list = [1, 2]\n"
     ]
    }
   ],
   "source": [
    "l1=[1,2,3,4,5]\n",
    "l2=[1,2,44,55]\n",
    "x= [i for i in set(l1) if i in set(l2)]\n",
    "print(\"Intersection of two list =\",x )"
   ]
  },
  {
   "cell_type": "markdown",
   "id": "2cec369e",
   "metadata": {},
   "source": [
    "# Q.19 Create code to find the union of two lists without duplicates"
   ]
  },
  {
   "cell_type": "code",
   "execution_count": 21,
   "id": "72e5193c",
   "metadata": {},
   "outputs": [
    {
     "name": "stdout",
     "output_type": "stream",
     "text": [
      "Union of two list [1, 2, 3, 4, 5, 1, 2, 44, 55]\n"
     ]
    }
   ],
   "source": [
    "l1=[1,2,3,4,5]\n",
    "l2=[1,2,44,55]\n",
    "#x1=l1 + [i for i in set(l2) if i not in set(l1)]\n",
    "x1=list(set(l1))+list(set(l2))\n",
    "print(\"Union of two list\",x1)"
   ]
  },
  {
   "cell_type": "markdown",
   "id": "9c8c60bd",
   "metadata": {},
   "source": [
    "# Q.20 write a code to shuffle given list randomly without using any built in shuffle fuctiohn"
   ]
  },
  {
   "cell_type": "code",
   "execution_count": 22,
   "id": "1b107b37",
   "metadata": {},
   "outputs": [
    {
     "name": "stdout",
     "output_type": "stream",
     "text": [
      "[1, 3, 5, 4, 2]\n"
     ]
    }
   ],
   "source": [
    "import random\n",
    "\n",
    "def shuffle_list(original_list):\n",
    "    shuffled_list = original_list[:]  # Create a copy of the original list\n",
    "    n = len(shuffled_list)\n",
    "\n",
    "    for i in range(n - 1, 0, -1):\n",
    "        # Generate a random index from 0 to i\n",
    "        j = random.randint(0, i)\n",
    "        # Swap elements at indices i and j\n",
    "        shuffled_list[i], shuffled_list[j] = shuffled_list[j], shuffled_list[i]\n",
    "\n",
    "    return shuffled_list\n",
    "\n",
    "# Example usage:\n",
    "my_list = [1, 2, 3, 4, 5]\n",
    "shuffled = shuffle_list(my_list)\n",
    "print(shuffled)"
   ]
  },
  {
   "cell_type": "markdown",
   "id": "f7789d89",
   "metadata": {},
   "source": [
    "# Q.21 write code that take two tuple as input and returns a new tuple containing elements that are common to both input tuple"
   ]
  },
  {
   "cell_type": "code",
   "execution_count": 23,
   "id": "eaf02b4c",
   "metadata": {},
   "outputs": [
    {
     "name": "stdout",
     "output_type": "stream",
     "text": [
      "Commen elements in both tuple {2, 4, 5}\n"
     ]
    }
   ],
   "source": [
    "t1=(1,2,3,4,5)\n",
    "t2=(2,4,5,6,8)\n",
    "new_tuple=set(t1).intersection(set(t2))\n",
    "print(\"Commen elements in both tuple\",new_tuple)"
   ]
  },
  {
   "cell_type": "markdown",
   "id": "977b5910",
   "metadata": {},
   "source": [
    "# Q.22 create code that prompts the user to enter two sets of integers seprated by commas. then print intersection of these two sets "
   ]
  },
  {
   "cell_type": "code",
   "execution_count": 24,
   "id": "6556cb23",
   "metadata": {},
   "outputs": [
    {
     "name": "stdout",
     "output_type": "stream",
     "text": [
      "Enter first set=1,2,3,4,5\n",
      "Enter second set=2,3,6,8,9,5\n",
      "Intersection of both given sets = {2, 3, 5}\n"
     ]
    }
   ],
   "source": [
    "ip1=input(\"Enter first set=\")\n",
    "set1=set(map(int, ip1.split(',')))\n",
    "\n",
    "ip2=input(\"Enter second set=\")\n",
    "set2=set(map(int, ip2.split(',')))\n",
    "\n",
    "x = set1.intersection(set2)\n",
    "print(\"Intersection of both given sets =\",x)"
   ]
  },
  {
   "cell_type": "markdown",
   "id": "e44c2cee",
   "metadata": {},
   "source": [
    "# Q.23 Write a code to concatenate two tuple.The funtion should take two tuple as input and return a new tuple containing elements from input tuple"
   ]
  },
  {
   "cell_type": "code",
   "execution_count": 25,
   "id": "364587fd",
   "metadata": {},
   "outputs": [
    {
     "name": "stdout",
     "output_type": "stream",
     "text": [
      "Concatination of given two tuple = (1, 2, 3, 66, 88)\n"
     ]
    }
   ],
   "source": [
    "def concatinate_tuple(t1,t2):\n",
    "    return t1+t2\n",
    "\n",
    "t1=(1,2,3)\n",
    "t2=(66,88)\n",
    "\n",
    "result =concatinate_tuple(t1,t2)\n",
    "print(\"Concatination of given two tuple =\",result)"
   ]
  },
  {
   "cell_type": "markdown",
   "id": "22505a75",
   "metadata": {},
   "source": [
    "# Q.24 Develop a code that prompts user to input two sets of strings.Then print the elements that are present in the first set but not in secund set."
   ]
  },
  {
   "cell_type": "code",
   "execution_count": 26,
   "id": "bab0f52e",
   "metadata": {},
   "outputs": [
    {
     "name": "stdout",
     "output_type": "stream",
     "text": [
      "Enter first string =1,2,3\n",
      "Enter second string =3,4,5\n",
      "Elements present in the first set but not in the second set= {'2', '1'}\n"
     ]
    }
   ],
   "source": [
    "ip1=input(\"Enter first string =\")\n",
    "s1=set(ip1.split(','))\n",
    "\n",
    "ip2=input(\"Enter second string =\")\n",
    "s2=set(ip2.split(','))\n",
    "\n",
    "d=s1-s2\n",
    "\n",
    "print(\"Elements present in the first set but not in the second set=\",d)\n"
   ]
  },
  {
   "cell_type": "markdown",
   "id": "d3c94dfa",
   "metadata": {},
   "source": [
    "# Q.25 Create a code that takes tuples and two integers as input. The function should return a new tuple containing  elements from the original tuple within the specified range of indices."
   ]
  },
  {
   "cell_type": "code",
   "execution_count": 27,
   "id": "31d5ad15",
   "metadata": {},
   "outputs": [
    {
     "name": "stdout",
     "output_type": "stream",
     "text": [
      "enter the elements for tuples\n",
      "1,2,3,4,5\n",
      "Do You want to add more elements in tuples \n",
      "8\n",
      "('1,2,3,4,5',)\n",
      "enter the value2\n",
      "enter the value4\n",
      "[2, 4]\n"
     ]
    },
    {
     "data": {
      "text/plain": [
       "()"
      ]
     },
     "execution_count": 27,
     "metadata": {},
     "output_type": "execute_result"
    }
   ],
   "source": [
    "tuples2=[]\n",
    "str1=\"yes\"\n",
    "while str1==\"yes\":\n",
    "    tuples1 = input(\"enter the elements for tuples\\n\")\n",
    "    tuples2.append(tuples1)\n",
    "    str1=input(\"Do You want to add more elements in tuples \\n\")\n",
    "\n",
    "tuples2 = tuple(tuples2)\n",
    "print(tuples2)\n",
    "\n",
    "\n",
    "list1=[]\n",
    "for i in range(2):\n",
    "    tuples = int(input(\"enter the value\"))\n",
    "    list1.append(tuples)\n",
    "\n",
    "print(list1)\n",
    "\n",
    "\n",
    "\n",
    "tuples2[list1[0]:list1[1]]"
   ]
  },
  {
   "cell_type": "markdown",
   "id": "5a690eac",
   "metadata": {},
   "source": [
    "# Q.26 Write a code that prompts the user to input two sets of characters. Then, print the union of these two sets"
   ]
  },
  {
   "cell_type": "code",
   "execution_count": 35,
   "id": "47493a66",
   "metadata": {},
   "outputs": [
    {
     "name": "stdout",
     "output_type": "stream",
     "text": [
      "Enter the first set of characters (separated by spaces): a b\n",
      "Enter the second set of characters (separated by spaces): c d\n",
      "Union of the two sets: {'c', 'b', 'a', 'd'}\n"
     ]
    }
   ],
   "source": [
    "def main():\n",
    "    # Prompt user for the first set of characters\n",
    "    set1_input = input(\"Enter the first set of characters (separated by spaces): \")\n",
    "    # Convert input string to a set of characters\n",
    "    set1 = set(set1_input.split())\n",
    "    \n",
    "    # Prompt user for the second set of characters\n",
    "    set2_input = input(\"Enter the second set of characters (separated by spaces): \")\n",
    "    # Convert input string to a set of characters\n",
    "    set2 = set(set2_input.split())\n",
    "    \n",
    "    # Calculate the union of the two sets\n",
    "    union_set = set1.union(set2)\n",
    "    \n",
    "    # Print the result\n",
    "    print(\"Union of the two sets:\", union_set)\n",
    "\n",
    "# Run the main function\n",
    "if __name__ == \"__main__\":\n",
    "    main()\n"
   ]
  },
  {
   "cell_type": "markdown",
   "id": "003cebda",
   "metadata": {},
   "source": [
    "# Q.27 Develop a code that takes a tuple of integers as input. The function should return the maximum and minimum values from the tuple using tuple unpacking"
   ]
  },
  {
   "cell_type": "code",
   "execution_count": 38,
   "id": "1510f6d3",
   "metadata": {},
   "outputs": [
    {
     "name": "stdout",
     "output_type": "stream",
     "text": [
      "Minimum value: 1\n",
      "Maximum value: 9\n"
     ]
    }
   ],
   "source": [
    "def get_min_max(input_tuple):\n",
    "    # Ensure the input is not empty\n",
    "    if not input_tuple:\n",
    "        return None, None  # Return None for both if the tuple is empty\n",
    "\n",
    "    # Use built-in functions to get min and max\n",
    "    min_value = min(input_tuple)\n",
    "    max_value = max(input_tuple)\n",
    "\n",
    "    # Return the min and max as a tuple\n",
    "    return min_value, max_value\n",
    "\n",
    "input_tuple = (3, 1, 4, 1, 5, 9, 2)\n",
    "min_val, max_val = get_min_max(input_tuple)\n",
    "print(\"Minimum value:\", min_val)\n",
    "print(\"Maximum value:\", max_val)"
   ]
  },
  {
   "cell_type": "markdown",
   "id": "38aef6e0",
   "metadata": {},
   "source": [
    "# Q.28 Create a code that defines two sets of integers. Then, print the union, intersection, and difference of these two sets."
   ]
  },
  {
   "cell_type": "code",
   "execution_count": 41,
   "id": "25516cc5",
   "metadata": {},
   "outputs": [
    {
     "name": "stdout",
     "output_type": "stream",
     "text": [
      "Set 1: {1, 2, 3, 4, 5}\n",
      "Set 2: {4, 5, 6, 7, 8}\n",
      "Union of Set 1 and Set 2: {1, 2, 3, 4, 5, 6, 7, 8}\n",
      "Intersection of Set 1 and Set 2: {4, 5}\n",
      "Difference of Set 1 and Set 2 (Set 1 - Set 2): {1, 2, 3}\n"
     ]
    }
   ],
   "source": [
    "def main():\n",
    "    # Define two sets of integers\n",
    "    set1 = {1, 2, 3, 4, 5}\n",
    "    set2 = {4, 5, 6, 7, 8}\n",
    "\n",
    "    # Calculate union, intersection, and difference\n",
    "    union_set = set1.union(set2)\n",
    "    intersection_set = set1.intersection(set2)\n",
    "    difference_set = set1.difference(set2)\n",
    "\n",
    "    # Print the results\n",
    "    print(\"Set 1:\", set1)\n",
    "    print(\"Set 2:\", set2)\n",
    "    print(\"Union of Set 1 and Set 2:\", union_set)\n",
    "    print(\"Intersection of Set 1 and Set 2:\", intersection_set)\n",
    "    print(\"Difference of Set 1 and Set 2 (Set 1 - Set 2):\", difference_set)\n",
    "\n",
    "# Run the main function\n",
    "if __name__ == \"__main__\":\n",
    "    main()"
   ]
  },
  {
   "cell_type": "markdown",
   "id": "088e50bc",
   "metadata": {},
   "source": [
    "# Q.29 Write a code that takes a tuple and an element as input. The function should return the count of occurrences of the given element in the tuple"
   ]
  },
  {
   "cell_type": "code",
   "execution_count": 43,
   "id": "bce7de06",
   "metadata": {},
   "outputs": [
    {
     "name": "stdout",
     "output_type": "stream",
     "text": [
      "The element 2 occurs 3 times in the tuple.\n"
     ]
    }
   ],
   "source": [
    "def count_occurrences(input_tuple, element):\n",
    "    # Use the count method to find the number of occurrences\n",
    "    return input_tuple.count(element)\n",
    "\n",
    "input_tuple = (1, 2, 3, 4, 2, 5, 2)\n",
    "element_to_count = 2\n",
    "occurrences = count_occurrences(input_tuple, element_to_count)\n",
    "\n",
    "print(f\"The element {element_to_count} occurs {occurrences} times in the tuple.\")"
   ]
  },
  {
   "cell_type": "markdown",
   "id": "7c04c10b",
   "metadata": {},
   "source": [
    "# Q.30  Develop a code that prompts the user to input two sets of strings. Then, print the symmetric difference of these two sets."
   ]
  },
  {
   "cell_type": "code",
   "execution_count": 1,
   "id": "8a117824",
   "metadata": {},
   "outputs": [
    {
     "name": "stdout",
     "output_type": "stream",
     "text": [
      "Enter the first set of strings (separated by spaces): 1 2 3 \n",
      "Enter the second set of strings (separated by spaces): 3 4 5 7\n",
      "Symmetric difference of the two sets: {'1', '4', '7', '2', '5'}\n"
     ]
    }
   ],
   "source": [
    "def main():\n",
    "    # Prompt user for the first set of strings\n",
    "    set1_input = input(\"Enter the first set of strings (separated by spaces): \")\n",
    "    set1 = set(set1_input.split())  # Convert input to a set\n",
    "\n",
    "    # Prompt user for the second set of strings\n",
    "    set2_input = input(\"Enter the second set of strings (separated by spaces): \")\n",
    "    set2 = set(set2_input.split())  # Convert input to a set\n",
    "\n",
    "    # Calculate the symmetric difference\n",
    "    symmetric_difference = set1.symmetric_difference(set2)\n",
    "\n",
    "    # Print the result\n",
    "    print(\"Symmetric difference of the two sets:\", symmetric_difference)\n",
    "\n",
    "# Run the main function\n",
    "if __name__ == \"__main__\":\n",
    "    main()\n"
   ]
  },
  {
   "cell_type": "markdown",
   "id": "36abcb62",
   "metadata": {},
   "source": [
    "# Q.31  Write a code that takes a list of words as input and returns a dictionary where the keys are unique words and the values are the frequencies of those words in the input list."
   ]
  },
  {
   "cell_type": "code",
   "execution_count": 2,
   "id": "73b8c5c7",
   "metadata": {},
   "outputs": [
    {
     "data": {
      "text/plain": [
       "{'apple': 3, 'banana': 2, 'orange': 1}"
      ]
     },
     "execution_count": 2,
     "metadata": {},
     "output_type": "execute_result"
    }
   ],
   "source": [
    "words = [\"apple\", \"banana\", \"apple\", \"orange\", \"banana\", \"apple\"]\n",
    "dict1={}\n",
    "for word in words:\n",
    "        if word in dict1:\n",
    "          \n",
    "            dict1[word] += 1\n",
    "        else:\n",
    "            dict1[word] = 1\n",
    "dict1"
   ]
  },
  {
   "cell_type": "markdown",
   "id": "50fd7cd5",
   "metadata": {},
   "source": [
    "# Q.32 Write a code that takes two dictionaries as input and merges them into a single dictionary. If there are common keys, the values should be added together"
   ]
  },
  {
   "cell_type": "code",
   "execution_count": 3,
   "id": "3334d29a",
   "metadata": {},
   "outputs": [
    {
     "name": "stdout",
     "output_type": "stream",
     "text": [
      "{'a': 1, 'b': 5, 'c': 7, 'd': 5}\n"
     ]
    }
   ],
   "source": [
    "def merge_dicts(dict1, dict2):\n",
    "    merged_dict = dict1.copy()  \n",
    "    for key, value in dict2.items():\n",
    "        if key in merged_dict:\n",
    "            merged_dict[key] += value  \n",
    "        else:\n",
    "            merged_dict[key] = value  \n",
    "    return merged_dict\n",
    "\n",
    "\n",
    "dict_a = {'a': 1, 'b': 2, 'c': 3}\n",
    "dict_b = {'b': 3, 'c': 4, 'd': 5}\n",
    "\n",
    "result = merge_dicts(dict_a, dict_b)\n",
    "print(result)  "
   ]
  },
  {
   "cell_type": "markdown",
   "id": "c4c6bedf",
   "metadata": {},
   "source": [
    "# Q.33 Write a code to access a value in a nested dictionary. The function should take the dictionary and a list of keys as input, and return the corresponding value. If any of the keys do not exist in the dictionary, the function should return None"
   ]
  },
  {
   "cell_type": "code",
   "execution_count": 4,
   "id": "bc5aec50",
   "metadata": {},
   "outputs": [
    {
     "name": "stdout",
     "output_type": "stream",
     "text": [
      "value1\n",
      "value2\n",
      "None\n",
      "None\n"
     ]
    }
   ],
   "source": [
    "def access_nested_dict(nested_dict, keys):\n",
    "    current_value = nested_dict\n",
    "    for key in keys:\n",
    "        # Check if the key exists in the current level of the dictionary\n",
    "        if isinstance(current_value, dict) and key in current_value:\n",
    "            current_value = current_value[key]\n",
    "        else:\n",
    "            return None  # Return None if the key does not exist\n",
    "    return current_value\n",
    "\n",
    "# Example usage\n",
    "nested_dict = {\n",
    "    'a': {\n",
    "        'b': {\n",
    "            'c': 'value1'\n",
    "        }\n",
    "    },\n",
    "    'x': {\n",
    "        'y': 'value2'\n",
    "    }\n",
    "}\n",
    "\n",
    "# Test cases\n",
    "print(access_nested_dict(nested_dict, ['a', 'b', 'c']))  # Outputs: value1\n",
    "print(access_nested_dict(nested_dict, ['x', 'y']))        # Outputs: value2\n",
    "print(access_nested_dict(nested_dict, ['a', 'b', 'd']))  # Outputs: None\n",
    "print(access_nested_dict(nested_dict, ['a', 'x']))   "
   ]
  },
  {
   "cell_type": "markdown",
   "id": "d69b19a6",
   "metadata": {},
   "source": [
    "# Q.34 Write a code that takes a dictionary as input and returns a sorted version of it based on the values. You can choose whether to sort in ascending or descending order"
   ]
  },
  {
   "cell_type": "code",
   "execution_count": 5,
   "id": "f6fc6395",
   "metadata": {},
   "outputs": [
    {
     "name": "stdout",
     "output_type": "stream",
     "text": [
      "Sorted in ascending order: {'banana': 2, 'orange': 3, 'grape': 4, 'apple': 5}\n",
      "Sorted in descending order: {'apple': 5, 'grape': 4, 'orange': 3, 'banana': 2}\n"
     ]
    }
   ],
   "source": [
    "def sort_dict_by_value(input_dict, ascending=True):\n",
    "    # Sort the dictionary by its values\n",
    "    sorted_dict = dict(sorted(input_dict.items(), key=lambda item: item[1], reverse=not ascending))\n",
    "    return sorted_dict\n",
    "\n",
    "example_dict = {\n",
    "    'apple': 5,\n",
    "    'banana': 2,\n",
    "    'orange': 3,\n",
    "    'grape': 4\n",
    "}\n",
    "\n",
    "# Sort in ascending order\n",
    "sorted_ascending = sort_dict_by_value(example_dict, ascending=True)\n",
    "print(\"Sorted in ascending order:\", sorted_ascending)\n",
    "\n",
    "# Sort in descending order\n",
    "sorted_descending = sort_dict_by_value(example_dict, ascending=False)\n",
    "print(\"Sorted in descending order:\", sorted_descending)"
   ]
  },
  {
   "cell_type": "markdown",
   "id": "8798914f",
   "metadata": {},
   "source": [
    "# Q.35  Write a code that inverts a dictionary, swapping keys and values. Ensure that the inverted dictionary correctly handles cases where multiple keys have the same value by storing the keys as a list in the inverted dictionary."
   ]
  },
  {
   "cell_type": "code",
   "execution_count": 6,
   "id": "9b297224",
   "metadata": {},
   "outputs": [
    {
     "name": "stdout",
     "output_type": "stream",
     "text": [
      "Inverted dictionary: {1: ['a', 'c'], 2: ['b'], 3: ['d']}\n"
     ]
    }
   ],
   "source": [
    "def invert_dict(input_dict):\n",
    "    inverted_dict = {}\n",
    "    \n",
    "    for key, value in input_dict.items():\n",
    "        if value in inverted_dict:\n",
    "            inverted_dict[value].append(key)  # Add the key to the existing list\n",
    "        else:\n",
    "            inverted_dict[value] = [key]  # Create a new list with the key\n",
    "\n",
    "    return inverted_dict\n",
    "\n",
    "example_dict = {\n",
    "    'a': 1,\n",
    "    'b': 2,\n",
    "    'c': 1,\n",
    "    'd': 3\n",
    "}\n",
    "\n",
    "inverted = invert_dict(example_dict)\n",
    "print(\"Inverted dictionary:\", inverted)"
   ]
  }
 ],
 "metadata": {
  "kernelspec": {
   "display_name": "Python 3 (ipykernel)",
   "language": "python",
   "name": "python3"
  },
  "language_info": {
   "codemirror_mode": {
    "name": "ipython",
    "version": 3
   },
   "file_extension": ".py",
   "mimetype": "text/x-python",
   "name": "python",
   "nbconvert_exporter": "python",
   "pygments_lexer": "ipython3",
   "version": "3.9.7"
  }
 },
 "nbformat": 4,
 "nbformat_minor": 5
}
