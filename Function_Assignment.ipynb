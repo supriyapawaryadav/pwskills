{
 "cells": [
  {
   "cell_type": "markdown",
   "id": "7f805931",
   "metadata": {},
   "source": [
    "# Q.1  Write a Python function that takes a list of numbers as input and returns the sum of all even numbers in the list"
   ]
  },
  {
   "cell_type": "code",
   "execution_count": 6,
   "id": "7c4abc09",
   "metadata": {},
   "outputs": [
    {
     "name": "stdout",
     "output_type": "stream",
     "text": [
      "6\n"
     ]
    }
   ],
   "source": [
    "def sum_even_no(num):\n",
    "    return sum(n for n in num if n%2==0)\n",
    "num=[1,2,3,4,5]\n",
    "print(sum_even_no(num))"
   ]
  },
  {
   "cell_type": "markdown",
   "id": "3351899e",
   "metadata": {},
   "source": [
    "# Q.2 Create a Python function that accepts a string and returns the reverse of that string."
   ]
  },
  {
   "cell_type": "code",
   "execution_count": 4,
   "id": "46d9b8e1",
   "metadata": {},
   "outputs": [
    {
     "data": {
      "text/plain": [
       "'CBA'"
      ]
     },
     "execution_count": 4,
     "metadata": {},
     "output_type": "execute_result"
    }
   ],
   "source": [
    "def str_reverse(string):\n",
    "    return (string[::-1])\n",
    "\n",
    "str_reverse(\"ABC\")"
   ]
  },
  {
   "cell_type": "markdown",
   "id": "83e5ff25",
   "metadata": {},
   "source": [
    "# Q.3 Implement a Python function that takes a list of integers and returns a new list containing the squares of each number"
   ]
  },
  {
   "cell_type": "code",
   "execution_count": 7,
   "id": "5f0a2845",
   "metadata": {},
   "outputs": [
    {
     "name": "stdout",
     "output_type": "stream",
     "text": [
      "[1, 4, 9]\n"
     ]
    }
   ],
   "source": [
    "def squres(num):\n",
    "    return [x**2 for x in num]\n",
    "num=[1,2,3]\n",
    "a=squres(num)\n",
    "print(a)"
   ]
  },
  {
   "cell_type": "markdown",
   "id": "edc4ffe6",
   "metadata": {},
   "source": [
    "# Q.4  Write a Python function that checks if a given number is prime or not from 1 to 200"
   ]
  },
  {
   "cell_type": "code",
   "execution_count": 14,
   "id": "ddd4acef",
   "metadata": {},
   "outputs": [
    {
     "name": "stdout",
     "output_type": "stream",
     "text": [
      "2\n",
      "3\n",
      "5\n",
      "7\n",
      "11\n",
      "13\n",
      "17\n",
      "19\n",
      "23\n",
      "29\n",
      "31\n",
      "37\n",
      "41\n",
      "43\n",
      "47\n",
      "53\n",
      "59\n",
      "61\n",
      "67\n",
      "71\n",
      "73\n",
      "79\n",
      "83\n",
      "89\n",
      "97\n",
      "101\n",
      "103\n",
      "107\n",
      "109\n",
      "113\n",
      "127\n",
      "131\n",
      "137\n",
      "139\n",
      "149\n",
      "151\n",
      "157\n",
      "163\n",
      "167\n",
      "173\n",
      "179\n",
      "181\n",
      "191\n",
      "193\n",
      "197\n",
      "199\n"
     ]
    }
   ],
   "source": [
    "def is_prime(n):\n",
    "    if n <= 1:\n",
    "        return False\n",
    "    for i in range(2, int(n**0.5) + 1):\n",
    "        if n % i == 0:\n",
    "            return False\n",
    "    return True\n",
    "for num in range(1, 201):\n",
    "    if is_prime(num):\n",
    "        print(num)\n"
   ]
  },
  {
   "cell_type": "markdown",
   "id": "1baaa930",
   "metadata": {},
   "source": [
    "# Q.5  Create an iterator class in Python that generates the Fibonacci sequence up to a specified number of terms"
   ]
  },
  {
   "cell_type": "code",
   "execution_count": 15,
   "id": "610b52ce",
   "metadata": {},
   "outputs": [
    {
     "name": "stdout",
     "output_type": "stream",
     "text": [
      "0\n",
      "1\n",
      "1\n",
      "2\n",
      "3\n",
      "5\n",
      "8\n",
      "13\n",
      "21\n",
      "34\n",
      "The history saving thread hit an unexpected error (OperationalError('database or disk is full')).History will not be written to the database.\n"
     ]
    }
   ],
   "source": [
    "class FibonacciIterator:\n",
    "    def __init__(self, terms):\n",
    "        self.terms = terms\n",
    "        self.count = 0\n",
    "        self.a, self.b = 0, 1  # Starting values for Fibonacci sequence\n",
    "\n",
    "    def __iter__(self):\n",
    "        return self\n",
    "\n",
    "    def __next__(self):\n",
    "        if self.count < self.terms:\n",
    "            current = self.a\n",
    "            self.a, self.b = self.b, self.a + self.b  # Update for next Fibonacci number\n",
    "            self.count += 1\n",
    "            return current\n",
    "        else:\n",
    "            raise StopIteration\n",
    "\n",
    "# Example usage\n",
    "fibonacci_gen = FibonacciIterator(10)\n",
    "for num in fibonacci_gen:\n",
    "    print(num)"
   ]
  },
  {
   "cell_type": "markdown",
   "id": "cd53af08",
   "metadata": {},
   "source": [
    "# Q.6 Write a generator function in Python that yields the powers of 2 up to a given exponent."
   ]
  },
  {
   "cell_type": "code",
   "execution_count": 2,
   "id": "08c1e2ee",
   "metadata": {},
   "outputs": [
    {
     "name": "stdout",
     "output_type": "stream",
     "text": [
      "1\n",
      "2\n",
      "4\n",
      "8\n",
      "16\n",
      "32\n",
      "64\n",
      "128\n",
      "256\n",
      "512\n",
      "1024\n"
     ]
    }
   ],
   "source": [
    "def power_of_two(max_exponent):\n",
    "    for exponent in range(max_exponent + 1):\n",
    "        yield 2 ** exponent\n",
    "        \n",
    "for i in power_of_two(10):\n",
    "    print(i)"
   ]
  },
  {
   "cell_type": "markdown",
   "id": "e7defa2d",
   "metadata": {},
   "source": [
    "# Q.7 Implement a generator function that reads a file line by line and yields each line as a string."
   ]
  },
  {
   "cell_type": "code",
   "execution_count": 14,
   "id": "0e195875",
   "metadata": {},
   "outputs": [
    {
     "name": "stdout",
     "output_type": "stream",
     "text": [
      "fgfgfgfgfgfgfgfgfgfgfgfgfgfgfg\n",
      "fgfgfgfgfgfgfgfgfgfgfgfgfgfgfgfgfgfgfgfgh\n",
      "dfshdfsg\n"
     ]
    }
   ],
   "source": [
    "def read_file_line_by_line(file_path):\n",
    "    with open(file_path, 'r',encoding='utf-8') as file:\n",
    "        for line in file:\n",
    "            yield line.strip()  \n",
    "\n",
    "\n",
    "filepath=r\"C:/Users/ajit yadav/desktop/hj.txt\"\n",
    "for line in read_file_line_by_line(filepath):\n",
    "    print(line)"
   ]
  },
  {
   "cell_type": "markdown",
   "id": "202e4ea7",
   "metadata": {},
   "source": [
    "# Q.8 Use a lambda function in Python to sort a list of tuples based on the second element of each tuple"
   ]
  },
  {
   "cell_type": "code",
   "execution_count": 2,
   "id": "8e0c7995",
   "metadata": {},
   "outputs": [
    {
     "name": "stdout",
     "output_type": "stream",
     "text": [
      "[(22, 5), (2, 11), (111, 22), (37, 22)]\n"
     ]
    }
   ],
   "source": [
    "data = [(111, 22), (2, 11), (22, 5), (37, 22)]\n",
    "sorted_data = sorted(data, key=lambda x: x[1])\n",
    "print(sorted_data)\n"
   ]
  },
  {
   "cell_type": "markdown",
   "id": "ab95c89d",
   "metadata": {},
   "source": [
    "# Q.9 Write a Python program that uses `map()` to convert a list of temperatures from Celsius to Fahrenheit."
   ]
  },
  {
   "cell_type": "code",
   "execution_count": 3,
   "id": "fdab0df7",
   "metadata": {},
   "outputs": [
    {
     "name": "stdout",
     "output_type": "stream",
     "text": [
      "[50.0, 68.0, 111.2]\n"
     ]
    }
   ],
   "source": [
    "celsius_temp=[10,20,44]\n",
    "def celsius_to_fahrenheit(celsius):\n",
    "    return (celsius * 9/5) + 32\n",
    "fahrenheit_temp = list(map(celsius_to_fahrenheit, celsius_temp))\n",
    "print(fahrenheit_temp)"
   ]
  },
  {
   "cell_type": "markdown",
   "id": "816d6d94",
   "metadata": {},
   "source": [
    "# Q.10 Create a Python program that uses `filter()` to remove all the vowels from a given string"
   ]
  },
  {
   "cell_type": "code",
   "execution_count": 5,
   "id": "af348305",
   "metadata": {},
   "outputs": [
    {
     "name": "stdout",
     "output_type": "stream",
     "text": [
      "spry\n"
     ]
    }
   ],
   "source": [
    "# Function to check if a character is a vowel\n",
    "def is_not_vowel(char):\n",
    "    return char.lower() not in 'aeiou'\n",
    "\n",
    "# Input string\n",
    "input_string = \"supriya\"\n",
    "\n",
    "# Using filter() to remove vowels\n",
    "filtered_string = ''.join(filter(is_not_vowel, input_string))\n",
    "\n",
    "# Example usage\n",
    "print(filtered_string)"
   ]
  },
  {
   "cell_type": "markdown",
   "id": "119eac2b",
   "metadata": {},
   "source": [
    "# Q.11  Imagine an accounting routine used in a book shop. It works on a list with sublists, which look like this:\n",
    "   \n",
    "#Write a Python program, which returns a list with 2-tuples. Each tuple consists of the order number and the \n",
    "product of the price per item and the quantity. The product should be increased by 10,- € if the value of the \n",
    "order is smaller than 100,00 €.\n",
    "Write a Python program using lambda and map"
   ]
  },
  {
   "cell_type": "code",
   "execution_count": 3,
   "id": "9d601587",
   "metadata": {},
   "outputs": [
    {
     "name": "stdout",
     "output_type": "stream",
     "text": [
      "[(34587, 163.8), (98762, 284.0), (77226, 108.85000000000001), (88112, 84.97)]\n"
     ]
    }
   ],
   "source": [
    "orders=[\n",
    "    [34587,4,40.95],\n",
    "    [98762,5,56.80],\n",
    "    [77226,3,32.95],\n",
    "    [88112,3,24.99],\n",
    "]\n",
    "\n",
    "def calculate_total(order):\n",
    "    order_number, price_per_item, quantity = order\n",
    "    total_price = price_per_item * quantity\n",
    "    if total_price < 100:\n",
    "        total_price += 10  # Add 10€ if total is less than 100\n",
    "    return (order_number, total_price)\n",
    "\n",
    "result = list(map(calculate_total, orders))\n",
    "print(result)"
   ]
  }
 ],
 "metadata": {
  "kernelspec": {
   "display_name": "Python 3 (ipykernel)",
   "language": "python",
   "name": "python3"
  },
  "language_info": {
   "codemirror_mode": {
    "name": "ipython",
    "version": 3
   },
   "file_extension": ".py",
   "mimetype": "text/x-python",
   "name": "python",
   "nbconvert_exporter": "python",
   "pygments_lexer": "ipython3",
   "version": "3.9.7"
  }
 },
 "nbformat": 4,
 "nbformat_minor": 5
}
