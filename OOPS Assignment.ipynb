{
 "cells": [
  {
   "cell_type": "markdown",
   "id": "1fdf51ba",
   "metadata": {},
   "source": [
    "# Q.1 What are 5 key concept of oops programing"
   ]
  },
  {
   "cell_type": "markdown",
   "id": "f7d78fc6",
   "metadata": {},
   "source": [
    "1.Encapsulation 2.Abstraction 3.Inheritance 4.Polymorphism 5.Classes and Objects"
   ]
  },
  {
   "cell_type": "markdown",
   "id": "5d9f5ae1",
   "metadata": {},
   "source": [
    "# Q.2 Write  a python class for a 'car ' with attributes for 'make','model' and 'year'.Include a method to display the cars information."
   ]
  },
  {
   "cell_type": "code",
   "execution_count": 1,
   "id": "a7690d6f",
   "metadata": {},
   "outputs": [
    {
     "name": "stdout",
     "output_type": "stream",
     "text": [
      "Car Make: Audi, Model: f4\n"
     ]
    }
   ],
   "source": [
    "class Car:\n",
    "    def __init__(self, make, model):\n",
    "        self.make = make  # Brand of the car\n",
    "        self.model = model  # Model of the car\n",
    "\n",
    "    def display_info(self):\n",
    "        print(f\"Car Make: {self.make}, Model: {self.model}\")\n",
    "\n",
    "\n",
    "my_car = Car(\"Audi\", \"f4\")\n",
    "my_car.display_info()"
   ]
  },
  {
   "cell_type": "markdown",
   "id": "be588005",
   "metadata": {},
   "source": [
    "# Q.3 Explain the difference betwen instance  methods ad class methods"
   ]
  },
  {
   "cell_type": "markdown",
   "id": "db0f7417",
   "metadata": {},
   "source": [
    "Instance Methods:\n",
    "Operate on instances of the class.\n",
    "Use self to access instance-specific data.\n",
    "nstance methods are defined with the first parameter typically named self\n",
    "\n",
    "Class Methods:\n",
    "Operate on the class itself.\n",
    "Use cls to access class-specific data.\n",
    "Class methods are defined with the @classmethod"
   ]
  },
  {
   "cell_type": "code",
   "execution_count": 2,
   "id": "ed9a8e3e",
   "metadata": {},
   "outputs": [
    {
     "name": "stdout",
     "output_type": "stream",
     "text": [
      "Car Make: Audi, Model: f4\n"
     ]
    }
   ],
   "source": [
    "class Car:\n",
    "    def __init__(self, make, model):\n",
    "        self.make = make  # Brand of the car\n",
    "        self.model = model  # Model of the car\n",
    "\n",
    "    def display_info(self):\n",
    "        print(f\"Car Make: {self.make}, Model: {self.model}\")\n",
    "\n",
    "\n",
    "my_car = Car(\"Audi\", \"f4\")\n",
    "my_car.display_info()   #Calls the instance method"
   ]
  },
  {
   "cell_type": "code",
   "execution_count": 3,
   "id": "749e4506",
   "metadata": {},
   "outputs": [
    {
     "name": "stdout",
     "output_type": "stream",
     "text": [
      "1\n"
     ]
    }
   ],
   "source": [
    "class Car:\n",
    "    total_cars = 0  # Class attribute\n",
    "\n",
    "    def __init__(self, make, model):\n",
    "        self.make = make\n",
    "        self.model = model\n",
    "        Car.total_cars += 1  # Increment the count when a new car is created\n",
    "\n",
    "    @classmethod\n",
    "    def get_total_cars(cls):\n",
    "        return cls.total_cars\n",
    "\n",
    "my_car = Car(\"Audi\", \"A4\")\n",
    "print(Car.get_total_cars())  # Calls the class method"
   ]
  },
  {
   "cell_type": "markdown",
   "id": "2a969825",
   "metadata": {},
   "source": [
    "# Q.4 How does python implement method overloading? Give example"
   ]
  },
  {
   "cell_type": "markdown",
   "id": "ad7c2801",
   "metadata": {},
   "source": [
    "Method overloading-> (having multiple methods with the same name but different parameters) \n",
    "Python does not supprot that,\n",
    "Instead, Python allows you to define a method that can accept a variable number of arguments using default arguments or *args and **kwargs."
   ]
  },
  {
   "cell_type": "code",
   "execution_count": 4,
   "id": "f26a82c7",
   "metadata": {},
   "outputs": [
    {
     "name": "stdout",
     "output_type": "stream",
     "text": [
      "1005\n"
     ]
    }
   ],
   "source": [
    "class Operations:\n",
    "    def add(self, *args):\n",
    "        \"\"\"Adds any number of arguments.\"\"\"\n",
    "        return sum(args)\n",
    "\n",
    "\n",
    "math_op = Operations()\n",
    "\n",
    "print(math_op.add(5, 1000))      "
   ]
  },
  {
   "cell_type": "code",
   "execution_count": 5,
   "id": "dc926a4e",
   "metadata": {},
   "outputs": [
    {
     "name": "stdout",
     "output_type": "stream",
     "text": [
      "112\n",
      "20\n"
     ]
    }
   ],
   "source": [
    "class MathOperations:\n",
    "    def add(self, a, b=0, c=0):\n",
    "        \"\"\"Adds two or three numbers.\"\"\"\n",
    "        return a + b + c\n",
    "\n",
    "\n",
    "math_op = MathOperations()\n",
    "\n",
    "print(math_op.add(7, 105))       # Output: 15 (two arguments)\n",
    "print(math_op.add(6, 10, 4)) "
   ]
  },
  {
   "cell_type": "markdown",
   "id": "9e9944cb",
   "metadata": {},
   "source": [
    "# Q.5 What are the three types of access modifies in Python?How are they denoted?"
   ]
  },
  {
   "cell_type": "markdown",
   "id": "f40b1436",
   "metadata": {},
   "source": [
    "Three types of access modifiers that control the visibility and accessibility of class attributes and methods.\n",
    "They are:= Private ,public ,protected"
   ]
  },
  {
   "cell_type": "markdown",
   "id": "5cd2554a",
   "metadata": {},
   "source": [
    "Public : ->\n",
    "Denotation: No underscore prefix.\n",
    "Description: Public members can be accessed from anywhere, both inside and outside the class. By default, all attributes and methods in a class are public."
   ]
  },
  {
   "cell_type": "code",
   "execution_count": 6,
   "id": "9041892b",
   "metadata": {},
   "outputs": [
    {
     "name": "stdout",
     "output_type": "stream",
     "text": [
      "I am public\n"
     ]
    }
   ],
   "source": [
    "class MyClass:\n",
    "    def __init__(self):\n",
    "        self.public_attribute = \"I am public\"\n",
    "\n",
    "my_object = MyClass()\n",
    "print(my_object.public_attribute)  # Accessible from outside the class"
   ]
  },
  {
   "cell_type": "markdown",
   "id": "2d649b5e",
   "metadata": {},
   "source": [
    "Protected:->\n",
    "Denotation: A single underscore prefix (_).\n",
    "Description: Protected members are intended to be accessed within the class and by subclasses. While they can technically be accessed from outside the class, it is discouraged as they are meant for internal use."
   ]
  },
  {
   "cell_type": "code",
   "execution_count": 7,
   "id": "eb955dd0",
   "metadata": {},
   "outputs": [
    {
     "name": "stdout",
     "output_type": "stream",
     "text": [
      "I am protected\n"
     ]
    }
   ],
   "source": [
    "class MyClass:\n",
    "    def __init__(self):\n",
    "        self._protected_attribute = \"I am protected\"\n",
    "\n",
    "class SubClass(MyClass):\n",
    "    def access_protected(self):\n",
    "        return self._protected_attribute  # Accessible in subclass\n",
    "\n",
    "my_object = SubClass()\n",
    "print(my_object.access_protected())  # Output: I am protected"
   ]
  },
  {
   "cell_type": "markdown",
   "id": "ff350edb",
   "metadata": {},
   "source": [
    "Private:->\n",
    "Denotation: A double underscore prefix (__).\n",
    "Description: Private members are intended to be accessed only within the class itself. Python performs name mangling for private attributes, which makes them harder to access from outside the class."
   ]
  },
  {
   "cell_type": "code",
   "execution_count": 8,
   "id": "38d9ed68",
   "metadata": {},
   "outputs": [
    {
     "name": "stdout",
     "output_type": "stream",
     "text": [
      "I am private\n"
     ]
    }
   ],
   "source": [
    "class MyClass:\n",
    "    def __init__(self):\n",
    "        self.__private_attribute = \"I am private\"\n",
    "\n",
    "    def access_private(self):\n",
    "        return self.__private_attribute  # Accessible within the class\n",
    "\n",
    "my_object = MyClass()\n",
    "print(my_object.access_private())  # Output: I am private\n"
   ]
  },
  {
   "cell_type": "markdown",
   "id": "fe5a019a",
   "metadata": {},
   "source": [
    "# Q.6 Describe the 5 types of inheritance in  python. Provide a simple example of multiple inheritance."
   ]
  },
  {
   "cell_type": "markdown",
   "id": "acdc79cd",
   "metadata": {},
   "source": [
    "Inheritance in Python allows a class (child class) to inherit attributes and methods from another class (parent class)\n",
    "\n",
    "1.Single Inheritance->\n",
    "a child class inherits from one parent class.\n",
    "\n",
    "2.Multiple Inheritance->\n",
    "a child class inherits from multiple parent classes. This allows the child class to combine the behaviors of several classes.\n",
    "\n",
    "3.Multilevel Inheritance->\n",
    " a class inherits from a parent class, which in turn inherits from another class.\n",
    "\n",
    "4.Hierarchical Inheritance->\n",
    "multiple child classes inherit from a single parent class.\n"
   ]
  },
  {
   "cell_type": "code",
   "execution_count": 9,
   "id": "fd75145b",
   "metadata": {},
   "outputs": [
    {
     "name": "stdout",
     "output_type": "stream",
     "text": [
      "This is Parent1.\n",
      "This is Parent2.\n",
      "This is the Child class.\n"
     ]
    }
   ],
   "source": [
    "class Parent1:\n",
    "    def show(self):\n",
    "        print(\"This is Parent1.\")\n",
    "\n",
    "class Parent2:\n",
    "    def display(self):\n",
    "        print(\"This is Parent2.\")\n",
    "\n",
    "class Child(Parent1, Parent2):\n",
    "    def greet(self):\n",
    "        print(\"This is the Child class.\")\n",
    "\n",
    "child = Child()\n",
    "child.show()      # Output: This is Parent1.\n",
    "child.display()   # Output: This is Parent2.\n",
    "child.greet()     # Output: This is the Child class."
   ]
  },
  {
   "cell_type": "markdown",
   "id": "fef718a8",
   "metadata": {},
   "source": [
    "# Q.7 What is the Method Resolution Order(MRO) in Python?How can you retrieve it programmatically?"
   ]
  },
  {
   "cell_type": "markdown",
   "id": "99f3c627",
   "metadata": {},
   "source": [
    "MRO determines the order in which classes are searched for methods and attributes.\n",
    "You can retrieve the MRO using ClassName.mro() or ClassName.__mro__.\n",
    "Particularly important in cases of multiple inheritance.\n",
    "\n",
    "Python uses the C3 linearization algorithm to determine the MRO. This algorithm ensures that the order respects the following rules:\n",
    "\n",
    "A class is always before its parents.\n",
    "The order of parents is preserved.\n",
    "If a class appears in the MRO of a class, its parents must also appear before that class."
   ]
  },
  {
   "cell_type": "code",
   "execution_count": 10,
   "id": "af0ac897",
   "metadata": {},
   "outputs": [
    {
     "name": "stdout",
     "output_type": "stream",
     "text": [
      "[<class '__main__.D'>, <class '__main__.B'>, <class '__main__.C'>, <class '__main__.A'>, <class 'object'>]\n"
     ]
    }
   ],
   "source": [
    "#Retrieving MRO Programmatically\n",
    "#You can retrieve the MRO of a class using the mro() method or the __mro__ attribute. \n",
    "\n",
    "class A:\n",
    "    pass\n",
    "\n",
    "class B(A):\n",
    "    pass\n",
    "\n",
    "class C(A):\n",
    "    pass\n",
    "\n",
    "class D(B, C):\n",
    "    pass\n",
    "\n",
    "# Get MRO using mro() method\n",
    "print(D.mro())\n",
    "\n"
   ]
  },
  {
   "cell_type": "code",
   "execution_count": 11,
   "id": "30daf9db",
   "metadata": {},
   "outputs": [
    {
     "name": "stdout",
     "output_type": "stream",
     "text": [
      "(<class '__main__.D'>, <class '__main__.B'>, <class '__main__.C'>, <class '__main__.A'>, <class 'object'>)\n"
     ]
    }
   ],
   "source": [
    "# Get MRO using __mro__ attribute\n",
    "print(D.__mro__)"
   ]
  },
  {
   "cell_type": "markdown",
   "id": "1fae8ece",
   "metadata": {},
   "source": [
    "This output indicates that when looking for methods or attributes on an instance of D, Python will check in the order: D, then B, then C, then A, and finally the base object class."
   ]
  },
  {
   "cell_type": "markdown",
   "id": "f1cbba43",
   "metadata": {},
   "source": [
    "# Q.8 Create an abstract base class 'shape' with an abstract method 'area()'.then create two subclasses 'Circle' and 'Rectangle' that implement the 'area()' method."
   ]
  },
  {
   "cell_type": "code",
   "execution_count": 12,
   "id": "642a6cde",
   "metadata": {},
   "outputs": [
    {
     "name": "stdout",
     "output_type": "stream",
     "text": [
      "Area of the Circle: 201.06192982974676\n",
      "Area of the Rectangle: 18\n"
     ]
    }
   ],
   "source": [
    "from abc import ABC, abstractmethod\n",
    "import math\n",
    "\n",
    "class Shape(ABC):\n",
    "    @abstractmethod\n",
    "    def area(self):\n",
    "        \"\"\"Method to calculate area.\"\"\"\n",
    "        pass\n",
    "    \n",
    "class Circle(Shape):\n",
    "    def __init__(self, radius):\n",
    "        self.radius = radius\n",
    "\n",
    "    def area(self):\n",
    "        \"\"\"Calculate the area of the circle.\"\"\"\n",
    "        return math.pi * (self.radius ** 2)\n",
    "\n",
    "class Rectangle(Shape):\n",
    "    def __init__(self, width, height):\n",
    "        self.width = width\n",
    "        self.height = height\n",
    "\n",
    "    def area(self):\n",
    "        \"\"\"Calculate the area of the rectangle.\"\"\"\n",
    "        return self.width * self.height\n",
    "\n",
    "circle = Circle(8)\n",
    "print(f\"Area of the Circle: {circle.area()}\") \n",
    "\n",
    "rectangle = Rectangle(3, 6)\n",
    "print(f\"Area of the Rectangle: {rectangle.area()}\")"
   ]
  },
  {
   "cell_type": "markdown",
   "id": "3fd3b44f",
   "metadata": {},
   "source": [
    "# Q.9 Demonstrate polymorphism by creating a function that can work with different shape objects to calculate and print their areas"
   ]
  },
  {
   "cell_type": "code",
   "execution_count": 13,
   "id": "995360e2",
   "metadata": {},
   "outputs": [
    {
     "name": "stdout",
     "output_type": "stream",
     "text": [
      "The area of the shape is: 28.274333882308138\n",
      "The area of the shape is: 14\n"
     ]
    }
   ],
   "source": [
    "from abc import ABC, abstractmethod\n",
    "import math\n",
    "\n",
    "class Shape(ABC):\n",
    "    @abstractmethod\n",
    "    def area(self):\n",
    "        \"\"\"Method to calculate area.\"\"\"\n",
    "        pass\n",
    "\n",
    "class Circle(Shape):\n",
    "    def __init__(self, radius):\n",
    "        self.radius = radius\n",
    "\n",
    "    def area(self):\n",
    "        \"\"\"Calculate the area of the circle.\"\"\"\n",
    "        return math.pi * (self.radius ** 2)\n",
    "\n",
    "class Rectangle(Shape):\n",
    "    def __init__(self, width, height):\n",
    "        self.width = width\n",
    "        self.height = height\n",
    "\n",
    "    def area(self):\n",
    "        \"\"\"Calculate the area of the rectangle.\"\"\"\n",
    "        return self.width * self.height\n",
    "    \n",
    "def print_area(shape):\n",
    "    \"\"\"Calculate and print the area of a given shape.\"\"\"\n",
    "    print(f\"The area of the shape is: {shape.area()}\")\n",
    "    \n",
    "circle = Circle(3)\n",
    "rectangle = Rectangle(2,7)\n",
    "\n",
    "print_area(circle)     \n",
    "print_area(rectangle)  "
   ]
  },
  {
   "cell_type": "markdown",
   "id": "d4ceec63",
   "metadata": {},
   "source": [
    "# Q.10 Implement encapsulation in a 'BankAccount' class with private attributes for 'balance' and 'account_number'. Inclue methods for deposit, withdrawal and balance inquiry."
   ]
  },
  {
   "cell_type": "code",
   "execution_count": 14,
   "id": "8be96bfe",
   "metadata": {},
   "outputs": [
    {
     "name": "stdout",
     "output_type": "stream",
     "text": [
      "Account Number: 123456789\n",
      "Current Balance: Rs.1000.00\n",
      "Deposited: Rs.500.00. New balance: Rs.1500.00\n",
      "Withdrew: Rs.200.00. New balance: Rs.1300.00\n",
      "Insufficient funds or invalid withdrawal amount.\n",
      "Final Balance: Rs.1300.00\n"
     ]
    }
   ],
   "source": [
    "class BankAccount:\n",
    "    def __init__(self, account_number, initial_balance=0):\n",
    "        self.__account_number = account_number  # Private attribute\n",
    "        self.__balance = initial_balance         # Private attribute\n",
    "\n",
    "    def deposit(self, amount):\n",
    "        \"\"\"Deposit money into the account.\"\"\"\n",
    "        if amount > 0:\n",
    "            self.__balance += amount\n",
    "            print(f\"Deposited: Rs.{amount:.2f}. New balance: Rs.{self.__balance:.2f}\")\n",
    "        else:\n",
    "            print(\"Deposit amount must be positive.\")\n",
    "\n",
    "    def withdraw(self, amount):\n",
    "        \"\"\"Withdraw money from the account.\"\"\"\n",
    "        if 0 < amount <= self.__balance:\n",
    "            self.__balance -= amount\n",
    "            print(f\"Withdrew: Rs.{amount:.2f}. New balance: Rs.{self.__balance:.2f}\")\n",
    "        else:\n",
    "            print(\"Insufficient funds or invalid withdrawal amount.\")\n",
    "\n",
    "    def get_balance(self):\n",
    "        \"\"\"Return the current balance.\"\"\"\n",
    "        return self.__balance\n",
    "\n",
    "    def get_account_number(self):\n",
    "        \"\"\"Return the account number.\"\"\"\n",
    "        return self.__account_number\n",
    "\n",
    "# Create a new bank account\n",
    "account = BankAccount(\"123456789\", 1000)\n",
    "\n",
    "# Check balance\n",
    "print(f\"Account Number: {account.get_account_number()}\")\n",
    "print(f\"Current Balance: Rs.{account.get_balance():.2f}\")\n",
    "\n",
    "# Deposit money\n",
    "account.deposit(500)\n",
    "\n",
    "# Withdraw money\n",
    "account.withdraw(200)\n",
    "\n",
    "# Attempt to withdraw more than the balance\n",
    "account.withdraw(2000)  # Output: Insufficient funds or invalid withdrawal amount.\n",
    "\n",
    "# Final balance inquiry\n",
    "print(f\"Final Balance: Rs.{account.get_balance():.2f}\")"
   ]
  },
  {
   "cell_type": "markdown",
   "id": "a9c68b7c",
   "metadata": {},
   "source": [
    "# Q.11 Write a class that overrides the'__str__' and '__add__' magic methods.What will these methods allow you to do?"
   ]
  },
  {
   "cell_type": "markdown",
   "id": "2fb328c8",
   "metadata": {},
   "source": [
    "In Python, the __str__ and __add__ magic methods can be overridden in a class to customize how instances of that class are represented as strings and how they can be added together, respectively.\n",
    "\n",
    "Purpose of the Methods\n",
    "__str__: This method is called by the str() function and when using the print() function. It allows you to define a human-readable string representation of your object.\n",
    "\n",
    "__add__: This method is called when using the + operator. It allows you to define how two instances of your class can be added together, returning a new instance or a computed value."
   ]
  },
  {
   "cell_type": "code",
   "execution_count": 15,
   "id": "5b961e9e",
   "metadata": {},
   "outputs": [
    {
     "name": "stdout",
     "output_type": "stream",
     "text": [
      "Vector(2, 3)\n",
      "Vector(5, 7)\n",
      "Vector(7, 10)\n"
     ]
    }
   ],
   "source": [
    "class Vector:\n",
    "    def __init__(self, x, y):\n",
    "        self.x = x\n",
    "        self.y = y\n",
    "\n",
    "    def __str__(self):\n",
    "        \"\"\"Return a string representation of the vector.\"\"\"\n",
    "        return f\"Vector({self.x}, {self.y})\"\n",
    "\n",
    "    def __add__(self, other):\n",
    "        \"\"\"Add two vectors.\"\"\"\n",
    "        if isinstance(other, Vector):\n",
    "            return Vector(self.x + other.x, self.y + other.y)\n",
    "        return NotImplemented  # Handle the case where other is not a Vector\n",
    "\n",
    "v1 = Vector(2, 3)\n",
    "v2 = Vector(5, 7)\n",
    "\n",
    "# Using __str__ method\n",
    "print(v1)  # Output: Vector(2, 3)\n",
    "print(v2)  # Output: Vector(5, 7)\n",
    "\n",
    "# Using __add__ method\n",
    "v3 = v1 + v2\n",
    "print(v3)  # Output: Vector(7, 10)"
   ]
  },
  {
   "cell_type": "markdown",
   "id": "62f2eea9",
   "metadata": {},
   "source": [
    "# Q.12 Create a decorator that measures and prints the execution time of function."
   ]
  },
  {
   "cell_type": "markdown",
   "id": "77e3fe2d",
   "metadata": {},
   "source": [
    "decorator provides a straightforward way to measure and print the execution time of any function in Python, helping you with performance analysis and optimization.\n",
    "\n",
    "Decorator Function (timing_decorator): This function takes another function as an argument and defines a wrapper function around it.\n",
    "\n",
    "Wrapper Function (wrapper):\n",
    "It records the start time before calling the original function.\n",
    "After the function completes, it records the end time.\n",
    "It calculates the execution time and prints it in a formatted string.\n",
    "Finally, it returns the result of the original function.\n",
    "\n",
    "Using the Decorator: You can apply the @timing_decorator syntax above any function you want to measure, which automatically wraps the function in the timing logic."
   ]
  },
  {
   "cell_type": "code",
   "execution_count": 16,
   "id": "be2bfeb8",
   "metadata": {},
   "outputs": [
    {
     "name": "stdout",
     "output_type": "stream",
     "text": [
      "Execution time for example_function: 0.037849 seconds\n",
      "Result: 499999500000\n"
     ]
    }
   ],
   "source": [
    "import time\n",
    "\n",
    "def timing_decorator(func):\n",
    "    \"\"\"Decorator to measure the execution time of a function.\"\"\"\n",
    "    def wrapper(*args, **kwargs):\n",
    "        start_time = time.time()  # Record start time\n",
    "        result = func(*args, **kwargs)  # Call the original function\n",
    "        end_time = time.time()  # Record end time\n",
    "        execution_time = end_time - start_time  # Calculate execution time\n",
    "        print(f\"Execution time for {func.__name__}: {execution_time:.6f} seconds\")\n",
    "        return result  # Return the result of the original function\n",
    "    return wrapper\n",
    "\n",
    "@timing_decorator\n",
    "def example_function(n):\n",
    "    \"\"\"Example function that calculates the sum of numbers up to n.\"\"\"\n",
    "    total = 0\n",
    "    for i in range(n):\n",
    "        total += i\n",
    "    return total\n",
    "\n",
    "# Call the decorated function\n",
    "result = example_function(1000000)\n",
    "print(f\"Result: {result}\") "
   ]
  },
  {
   "cell_type": "markdown",
   "id": "eb9e57b4",
   "metadata": {},
   "source": [
    "# Q.13 Explain the concept of the Diamond Problem in multiple inheritance. How does Python resolve it?"
   ]
  },
  {
   "cell_type": "markdown",
   "id": "1791d615",
   "metadata": {},
   "source": [
    "A class inherits from two classes that have a common ancestor. This situation can create ambiguity regarding which method or attribute the subclass should inherit when both parent classes provide their own implementations.\n",
    "\n",
    "      A\n",
    "     / \\\n",
    "    B   C\n",
    "     \\ /\n",
    "      D\n",
    "      \n",
    "Class A is the ancestor.\n",
    "\n",
    "Classes B and C inherit from A.\n",
    "\n",
    "Class D inherits from both B and C.\n",
    "\n",
    "If class B and class C both override a method from class A, and class D calls that method, it can lead to ambiguity: Should D use the method from B or the one from C?\n"
   ]
  },
  {
   "cell_type": "code",
   "execution_count": 17,
   "id": "7e1a4443",
   "metadata": {},
   "outputs": [
    {
     "name": "stdout",
     "output_type": "stream",
     "text": [
      "Hello from B\n",
      "[<class '__main__.D'>, <class '__main__.B'>, <class '__main__.C'>, <class '__main__.A'>, <class 'object'>]\n"
     ]
    }
   ],
   "source": [
    "class A:\n",
    "    def greet(self):\n",
    "        return \"Hello from A\"\n",
    "\n",
    "class B(A):\n",
    "    def greet(self):\n",
    "        return \"Hello from B\"\n",
    "\n",
    "class C(A):\n",
    "    def greet(self):\n",
    "        return \"Hello from C\"\n",
    "\n",
    "class D(B, C):\n",
    "    pass\n",
    "\n",
    "# Create an instance of D\n",
    "d = D()\n",
    "\n",
    "# Call the greet method\n",
    "print(d.greet())  # Output: Hello from B\n",
    "\n",
    "# Check the MRO\n",
    "print(D.mro()) "
   ]
  },
  {
   "cell_type": "markdown",
   "id": "a1f1f632",
   "metadata": {},
   "source": [
    "Class Definitions: Classes A, B, and C are defined, with B and C each overriding the greet() method from A.\n",
    "\n",
    "Class D: Inherits from both B and C.\n",
    "\n",
    "Method Resolution: When d.greet() is called, Python uses the MRO to determine which greet() method to execute. According to the MRO for D, it looks in the order: D -> B -> C -> A. Thus, it finds the \n",
    "\n",
    "greet() method in B first and returns \"Hello from B\".\n",
    "\n",
    "MRO Check: The D.mro() method confirms the order of class resolution."
   ]
  },
  {
   "cell_type": "markdown",
   "id": "6b5764e6",
   "metadata": {},
   "source": [
    "# Q.14 Write a class method that keeps track of number of instances created from a class"
   ]
  },
  {
   "cell_type": "code",
   "execution_count": 18,
   "id": "ff97fe81",
   "metadata": {},
   "outputs": [
    {
     "name": "stdout",
     "output_type": "stream",
     "text": [
      "3\n"
     ]
    }
   ],
   "source": [
    "class InstanceCounter:\n",
    "    instance_count = 0  # Class variable to keep track of instances\n",
    "\n",
    "    def __init__(self):\n",
    "        InstanceCounter.instance_count += 1  # Increment count when a new instance is created\n",
    "\n",
    "    @classmethod\n",
    "    def get_instance_count(cls):\n",
    "        \"\"\"Class method to return the number of instances created.\"\"\"\n",
    "        return cls.instance_count\n",
    "\n",
    "obj1 = InstanceCounter()\n",
    "obj2 = InstanceCounter()\n",
    "obj3 = InstanceCounter()\n",
    "\n",
    "# Check the number of instances created\n",
    "print(InstanceCounter.get_instance_count()) "
   ]
  },
  {
   "cell_type": "markdown",
   "id": "43a36029",
   "metadata": {},
   "source": [
    "# Q.15 Implement a static method in class that checks if a given year is a leap year"
   ]
  },
  {
   "cell_type": "code",
   "execution_count": 19,
   "id": "2b114201",
   "metadata": {},
   "outputs": [
    {
     "name": "stdout",
     "output_type": "stream",
     "text": [
      "2024 is a leap year.\n",
      "1997 is not a leap year.\n"
     ]
    }
   ],
   "source": [
    "class YearUtils:\n",
    "    @staticmethod\n",
    "    def is_leap_year(year):\n",
    "        \"\"\"Static method to check if a given year is a leap year.\"\"\"\n",
    "        if (year % 4 == 0 and year % 100 != 0) or (year % 400 == 0):\n",
    "            return True\n",
    "        return False\n",
    "\n",
    "year_to_check = 2024\n",
    "if YearUtils.is_leap_year(year_to_check):\n",
    "    print(f\"{year_to_check} is a leap year.\")\n",
    "else:\n",
    "    print(f\"{year_to_check} is not a leap year.\")\n",
    "\n",
    "year_to_check = 1997\n",
    "if YearUtils.is_leap_year(year_to_check):\n",
    "    print(f\"{year_to_check} is a leap year.\")\n",
    "else:\n",
    "    print(f\"{year_to_check} is not a leap year.\")"
   ]
  },
  {
   "cell_type": "code",
   "execution_count": null,
   "id": "28eee96b",
   "metadata": {},
   "outputs": [],
   "source": []
  }
 ],
 "metadata": {
  "kernelspec": {
   "display_name": "Python 3 (ipykernel)",
   "language": "python",
   "name": "python3"
  },
  "language_info": {
   "codemirror_mode": {
    "name": "ipython",
    "version": 3
   },
   "file_extension": ".py",
   "mimetype": "text/x-python",
   "name": "python",
   "nbconvert_exporter": "python",
   "pygments_lexer": "ipython3",
   "version": "3.9.7"
  }
 },
 "nbformat": 4,
 "nbformat_minor": 5
}
