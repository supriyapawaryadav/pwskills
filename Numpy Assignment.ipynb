{
 "cells": [
  {
   "cell_type": "markdown",
   "id": "9a756b2a",
   "metadata": {},
   "source": [
    "# Theoretical Questions:"
   ]
  },
  {
   "cell_type": "markdown",
   "id": "af2e91c9",
   "metadata": {},
   "source": [
    "# Q.1 Explain the purpose and advantages of NumPy in scientific computing and data analysis. How does it enhance Python's capabilities for numerical operations?"
   ]
  },
  {
   "cell_type": "markdown",
   "id": "4ef3b147",
   "metadata": {},
   "source": [
    "It was designed to handle large datasets and perform numerical computations efficiently, making it fundamental for tasks in fields like data science, machine learning, physics, engineering, and more. \n",
    "\n",
    "1. Efficient Multidimensional Arrays\n",
    "\n",
    "2. Fast Computation\n",
    "\n",
    "3. Extensive Mathematical Functions for operations like linear algebra, statistical analysis, Fourier transforms, and more.\n",
    "\n",
    "5. Simplified Code and Improved Readability"
   ]
  },
  {
   "cell_type": "code",
   "execution_count": 1,
   "id": "5733e121",
   "metadata": {},
   "outputs": [
    {
     "name": "stdout",
     "output_type": "stream",
     "text": [
      "[5, 7, 9]\n"
     ]
    }
   ],
   "source": [
    "# Using lists for element-wise addition\n",
    "list1 = [1, 2, 3]\n",
    "list2 = [4, 5, 6]\n",
    "result = [x + y for x, y in zip(list1, list2)]\n",
    "print(result)"
   ]
  },
  {
   "cell_type": "code",
   "execution_count": 2,
   "id": "79d184f6",
   "metadata": {},
   "outputs": [
    {
     "name": "stdout",
     "output_type": "stream",
     "text": [
      "[5 7 9]\n"
     ]
    }
   ],
   "source": [
    "# With NumPy, this operation becomes simpler and faster:\n",
    "import numpy as np\n",
    "array1 = np.array([1, 2, 3])\n",
    "array2 = np.array([4, 5, 6])\n",
    "result = array1 + array2  # Vectorized addition\n",
    "print(result)"
   ]
  },
  {
   "cell_type": "markdown",
   "id": "d1d037d6",
   "metadata": {},
   "source": [
    "# Q.2 Compare and contrast np.mean() and np.average() functions in NumPy. When would you use one over the other?"
   ]
  },
  {
   "cell_type": "markdown",
   "id": "36e9f1db",
   "metadata": {},
   "source": [
    "np.mean() when:\n",
    "\n",
    "You need a straightforward arithmetic mean without any weights.\n",
    "You prefer a slightly faster computation (since np.mean() is optimized for unweighted averages).\n",
    "\n",
    "np.average() when:\n",
    "\n",
    "You need to compute a weighted average.\n",
    "You want the flexibility to return the sum of weights alongside the average for further analysis."
   ]
  },
  {
   "cell_type": "code",
   "execution_count": 3,
   "id": "d432a9c7",
   "metadata": {},
   "outputs": [
    {
     "data": {
      "text/plain": [
       "3.0"
      ]
     },
     "execution_count": 3,
     "metadata": {},
     "output_type": "execute_result"
    }
   ],
   "source": [
    "import numpy as np\n",
    "array = np.array([1, 2, 3, 4, 5])\n",
    "np.mean(array)  "
   ]
  },
  {
   "cell_type": "code",
   "execution_count": 4,
   "id": "5ba7ed5e",
   "metadata": {},
   "outputs": [
    {
     "data": {
      "text/plain": [
       "3.0"
      ]
     },
     "execution_count": 4,
     "metadata": {},
     "output_type": "execute_result"
    }
   ],
   "source": [
    "array = np.array([1, 2, 3, 4, 5])\n",
    "weights = np.array([1, 0.5, 1, 0.5, 1])\n",
    "np.average(array, weights=weights)"
   ]
  },
  {
   "cell_type": "markdown",
   "id": "f335a6bd",
   "metadata": {},
   "source": [
    "# Q.3 Describe the methods for reversing a NumPy array along different axes. Provide examples for 1D and 2D arrays."
   ]
  },
  {
   "cell_type": "markdown",
   "id": "47801fc4",
   "metadata": {},
   "source": [
    "Reversing a NumPy array can be done efficiently using slicing and specific functions. \n",
    "\n",
    "For 1D arrays: Use slicing [::-1] to reverse the order.\n",
    "\n",
    "For 2D arrays:\n",
    "Use slicing [::-1, :] or [:, ::-1] to reverse along specific axes.\n",
    "\n",
    "Use np.flip() to reverse along specified axes or both."
   ]
  },
  {
   "cell_type": "code",
   "execution_count": 5,
   "id": "a63f89f9",
   "metadata": {},
   "outputs": [
    {
     "name": "stdout",
     "output_type": "stream",
     "text": [
      "[5 4 3 2 1]\n"
     ]
    }
   ],
   "source": [
    "import numpy as np\n",
    "\n",
    "# 1D Array\n",
    "array_1d = np.array([1, 2, 3, 4, 5])\n",
    "\n",
    "# Reverse the array\n",
    "reversed_array_1d = array_1d[::-1]\n",
    "print(reversed_array_1d)"
   ]
  },
  {
   "cell_type": "code",
   "execution_count": 6,
   "id": "2a2e7721",
   "metadata": {},
   "outputs": [
    {
     "name": "stdout",
     "output_type": "stream",
     "text": [
      "[[7 8 9]\n",
      " [4 5 6]\n",
      " [1 2 3]]\n"
     ]
    }
   ],
   "source": [
    "array_2d = np.array([[1, 2, 3],\n",
    "                     [4, 5, 6],\n",
    "                     [7, 8, 9]])\n",
    "\n",
    "reversed_rows = array_2d[::-1, :]\n",
    "print(reversed_rows)"
   ]
  },
  {
   "cell_type": "markdown",
   "id": "f11bf543",
   "metadata": {},
   "source": [
    "# Q.4. How can you determine the data type of elements in a NumPy array? Discuss the importance of data types in memory management and performance."
   ]
  },
  {
   "cell_type": "code",
   "execution_count": 7,
   "id": "0a705b81",
   "metadata": {},
   "outputs": [
    {
     "name": "stdout",
     "output_type": "stream",
     "text": [
      "int32\n"
     ]
    }
   ],
   "source": [
    "import numpy as np\n",
    "\n",
    "# Create a NumPy array\n",
    "array = np.array([1, 2, 3])\n",
    "\n",
    "# Check the data type\n",
    "print(array.dtype)"
   ]
  },
  {
   "cell_type": "markdown",
   "id": "7e40b8b7",
   "metadata": {},
   "source": [
    "Importance of Data Types in Memory Management and Performance-\n",
    "\n",
    "Memory Management-\n",
    "\n",
    "Efficient Storage: NumPy arrays are homogeneously typed, meaning all elements share the same data type. This allows them to be stored more compactly in memory than Python lists, which can hold mixed types.\n",
    "\n",
    "Memory Footprint: The data type of an array affects how much memory it uses. For instance, an array of int32 (32-bit integers) consumes half the memory of an int64 (64-bit integers) array, which can be critical when working with large datasets.\n"
   ]
  },
  {
   "cell_type": "code",
   "execution_count": 8,
   "id": "1cdb67e9",
   "metadata": {},
   "outputs": [],
   "source": [
    "array_int32 = np.array([1, 2, 3], dtype=np.int32)  # Uses 4 bytes per element\n",
    "array_int64 = np.array([1, 2, 3], dtype=np.int64)  # Uses 8 bytes per element"
   ]
  },
  {
   "cell_type": "markdown",
   "id": "aa7cc96c",
   "metadata": {},
   "source": [
    "Performance-\n",
    "\n",
    "Computation Speed: Smaller data types (e.g., int8, float32) generally allow faster calculations compared to larger types (e.g., int64, float64) due to less memory access per operation. Smaller data types also enable more data to fit into the CPU cache, enhancing performance in large computations.\n",
    "\n",
    "Vectorized Operations: NumPy’s operations are optimized for specific data types, especially those that match the underlying hardware. For instance, using float32 on a GPU or SIMD-enabled CPU can speed up computation compared to float64."
   ]
  },
  {
   "cell_type": "markdown",
   "id": "a9b9eb82",
   "metadata": {},
   "source": [
    "# Q.5 Define ndarrays in NumPy and explain their key features. How do they differ from standard Python lists?"
   ]
  },
  {
   "cell_type": "markdown",
   "id": "365dd77e",
   "metadata": {},
   "source": [
    "ndarrays are more memory-efficient, faster, and better suited for numerical and scientific computations than standard Python lists, thanks to their homogeneous data type, support for multi-dimensional structures, and rich set of mathematical operations."
   ]
  },
  {
   "cell_type": "code",
   "execution_count": 9,
   "id": "a7688227",
   "metadata": {},
   "outputs": [],
   "source": [
    "import numpy as np\n",
    "\n",
    "# Python list\n",
    "list_1 = [1, 2, 3]\n",
    "list_2 = [4, 5, 6]\n",
    "result_list = [x + y for x, y in zip(list_1, list_2)]  # Loop required for element-wise addition\n",
    "\n",
    "# NumPy ndarray\n",
    "array_1 = np.array([1, 2, 3])\n",
    "array_2 = np.array([4, 5, 6])\n",
    "result_array = array_1 + array_2 "
   ]
  },
  {
   "cell_type": "code",
   "execution_count": 10,
   "id": "008da251",
   "metadata": {},
   "outputs": [
    {
     "name": "stdout",
     "output_type": "stream",
     "text": [
      "[5, 7, 9]\n"
     ]
    }
   ],
   "source": [
    "print(result_list)"
   ]
  },
  {
   "cell_type": "code",
   "execution_count": 11,
   "id": "6c8b4218",
   "metadata": {},
   "outputs": [
    {
     "name": "stdout",
     "output_type": "stream",
     "text": [
      "[5 7 9]\n"
     ]
    }
   ],
   "source": [
    "print(result_array)"
   ]
  },
  {
   "cell_type": "markdown",
   "id": "a63c3fe0",
   "metadata": {},
   "source": [
    "# Q.6 Analyze the performance benefits of NumPy arrays over Python lists for large-scale numerical operations."
   ]
  },
  {
   "cell_type": "markdown",
   "id": "df61092f",
   "metadata": {},
   "source": [
    "NumPy arrays offer significant performance benefits over Python lists for large-scale numerical operations due to their specialized structure and optimization for numerical computing. Here are the main factors contributing to the performance advantages of NumPy arrays:\n",
    "\n",
    "Faster computations: Vectorization and built-in functions lead to faster calculations.\n",
    "\n",
    "Lower memory usage: Homogeneous data types and contiguous memory layout reduce memory footprint.\n",
    "\n",
    "Better scalability: Broadcasting and integration with low-level libraries make it possible to handle complex, large-scale computations efficiently.\n",
    "\n",
    "These advantages make NumPy a powerful tool for numerical operations and data processing, significantly outperforming Python lists in speed and memory efficiency when dealing with large datasets."
   ]
  },
  {
   "cell_type": "code",
   "execution_count": 12,
   "id": "ab6cbdaa",
   "metadata": {},
   "outputs": [
    {
     "name": "stdout",
     "output_type": "stream",
     "text": [
      "Python list time: 0.03900003433227539\n",
      "NumPy array time: 0.0\n"
     ]
    }
   ],
   "source": [
    "import numpy as np\n",
    "import time\n",
    "\n",
    "# Create a large list and a large NumPy array\n",
    "list_data = list(range(1000000))\n",
    "array_data = np.array(list_data)\n",
    "\n",
    "# Python list - calculate square of each element\n",
    "start_time = time.time()\n",
    "list_result = [x**2 for x in list_data]\n",
    "print(\"Python list time:\", time.time() - start_time)\n",
    "\n",
    "# NumPy array - calculate square of each element\n",
    "start_time = time.time()\n",
    "array_result = array_data**2\n",
    "print(\"NumPy array time:\", time.time() - start_time)"
   ]
  },
  {
   "cell_type": "markdown",
   "id": "1bf3f5cb",
   "metadata": {},
   "source": [
    "# Q.7 Compare vstack() and hstack() functions in NumPy. Provide examples demonstrating their usage and output."
   ]
  },
  {
   "cell_type": "markdown",
   "id": "65a19c64",
   "metadata": {},
   "source": [
    "The vstack() and hstack() functions in NumPy are used for stacking (concatenating) arrays vertically and horizontally, respectively. These functions are especially useful for combining multiple arrays into a single array along a specific axis.\n",
    "\n",
    "1. np.vstack()\n",
    "\n",
    "Purpose: Stacks arrays vertically (row-wise) along a new row axis. This is typically used when you want to add rows to an existing array.\n",
    "\n",
    "Requirements: The arrays being stacked must have the same number of columns (second dimension).\n",
    "Behavior: It creates a new array with additional rows."
   ]
  },
  {
   "cell_type": "code",
   "execution_count": 13,
   "id": "3db08777",
   "metadata": {},
   "outputs": [
    {
     "name": "stdout",
     "output_type": "stream",
     "text": [
      "[[ 1  2  3]\n",
      " [ 4  5  6]\n",
      " [ 7  8  9]\n",
      " [10 11 12]]\n"
     ]
    }
   ],
   "source": [
    "import numpy as np\n",
    "\n",
    "# Define two 2D arrays with the same number of columns\n",
    "array1 = np.array([[1, 2, 3],\n",
    "                   [4, 5, 6]])\n",
    "\n",
    "array2 = np.array([[7, 8, 9],\n",
    "                   [10, 11, 12]])\n",
    "\n",
    "# Stack arrays vertically\n",
    "result_vstack = np.vstack((array1, array2))\n",
    "print(result_vstack)\n",
    "\n",
    "#In this example, np.vstack() combines array1 and array2 by stacking array2 as new rows below array1."
   ]
  },
  {
   "cell_type": "markdown",
   "id": "6576eb04",
   "metadata": {},
   "source": [
    "2. np.hstack()\n",
    "\n",
    "Purpose: Stacks arrays horizontally (column-wise) along a new column axis. This is typically used when you want to add columns to an existing array.\n",
    "\n",
    "Requirements: The arrays being stacked must have the same number of rows (first dimension).\n",
    "Behavior: It creates a new array with additional columns."
   ]
  },
  {
   "cell_type": "code",
   "execution_count": 14,
   "id": "5b355210",
   "metadata": {},
   "outputs": [
    {
     "name": "stdout",
     "output_type": "stream",
     "text": [
      "[[ 1  2  7  8]\n",
      " [ 3  4  9 10]\n",
      " [ 5  6 11 12]]\n"
     ]
    }
   ],
   "source": [
    "# Define two 2D arrays with the same number of rows\n",
    "array3 = np.array([[1, 2],\n",
    "                   [3, 4],\n",
    "                   [5, 6]])\n",
    "\n",
    "array4 = np.array([[7, 8],\n",
    "                   [9, 10],\n",
    "                   [11, 12]])\n",
    "\n",
    "# Stack arrays horizontally\n",
    "result_hstack = np.hstack((array3, array4))\n",
    "print(result_hstack)\n",
    "\n",
    "#In this example, np.hstack() combines array3 and array4 by adding array4 as new columns to the right of array3."
   ]
  },
  {
   "cell_type": "markdown",
   "id": "73b82d92",
   "metadata": {},
   "source": [
    "These stacking functions are commonly used for reshaping and merging datasets in data analysis, where each array represents data with matching dimensions along one axis."
   ]
  },
  {
   "cell_type": "markdown",
   "id": "29112fb4",
   "metadata": {},
   "source": [
    "# Q.8 Explain the differences between fliplr() and flipud() methods in NumPy, including their effects on variousarray dimensions."
   ]
  },
  {
   "cell_type": "markdown",
   "id": "0d15af4a",
   "metadata": {},
   "source": [
    "The fliplr() and flipud() functions in NumPy are used to flip arrays along specific axes, providing a quick way to reverse the order of elements horizontally or vertically in a 2D array. Here’s a breakdown of their differences, behavior, and effects on arrays.\n",
    "\n",
    "1. np.fliplr()\n",
    "Purpose: Flips a 2D array left-to-right, reversing the order of columns.\n",
    "Behavior: It reverses elements along the second dimension (horizontal axis) of the array, essentially reflecting it horizontally.\n",
    "Effect: It only works on 2D arrays (or higher) and will raise an error if used on a 1D array."
   ]
  },
  {
   "cell_type": "code",
   "execution_count": 15,
   "id": "cb0cdf50",
   "metadata": {},
   "outputs": [
    {
     "name": "stdout",
     "output_type": "stream",
     "text": [
      "[[3 2 1]\n",
      " [6 5 4]\n",
      " [9 8 7]]\n"
     ]
    }
   ],
   "source": [
    "import numpy as np\n",
    "\n",
    "# Define a 2D array\n",
    "array = np.array([[1, 2, 3],\n",
    "                  [4, 5, 6],\n",
    "                  [7, 8, 9]])\n",
    "\n",
    "# Flip the array left to right\n",
    "result_fliplr = np.fliplr(array)\n",
    "print(result_fliplr)"
   ]
  },
  {
   "cell_type": "markdown",
   "id": "e01ae5ca",
   "metadata": {},
   "source": [
    "2. np.flipud()\n",
    "Purpose: Flips a 2D array up-to-down, reversing the order of rows.\n",
    "Behavior: It reverses elements along the first dimension (vertical axis) of the array, effectively reflecting it vertically.\n",
    "Effect: It works on 1D, 2D, and higher-dimensional arrays, reversing the order along the first axis."
   ]
  },
  {
   "cell_type": "code",
   "execution_count": 16,
   "id": "f4d1a9b1",
   "metadata": {},
   "outputs": [
    {
     "name": "stdout",
     "output_type": "stream",
     "text": [
      "[[7 8 9]\n",
      " [4 5 6]\n",
      " [1 2 3]]\n"
     ]
    }
   ],
   "source": [
    "# Using the same 2D array as above\n",
    "result_flipud = np.flipud(array)\n",
    "print(result_flipud)"
   ]
  },
  {
   "cell_type": "markdown",
   "id": "fc453f1b",
   "metadata": {},
   "source": [
    "# 9. Discuss the functionality of the array_split() method in NumPy. How does it handle uneven splits?"
   ]
  },
  {
   "cell_type": "markdown",
   "id": "21fc30a9",
   "metadata": {},
   "source": [
    "The array_split() method in NumPy is used to split an array into multiple sub-arrays along a specified axis. This function is particularly useful when you need to partition an array into several pieces for processing or analysis.\n",
    "\n",
    "Functionality of array_split()\n",
    "\n",
    "Parameters:\n",
    "\n",
    "ary: The input array to be split.\n",
    "\n",
    "indices_or_sections: This can be an integer or a 1-D array-like object.\n",
    " \n",
    "If it's an integer, it specifies the number of equal parts to split the array into.\n",
    "\n",
    "If it's an array-like object, it defines the specific indices at which to split the array.\n",
    "\n",
    "axis: The axis along which to split the array (default is 0).\n",
    "\n",
    "Returns: A list of sub-arrays after splitting the original array."
   ]
  },
  {
   "cell_type": "markdown",
   "id": "b95756f8",
   "metadata": {},
   "source": [
    "Handling Uneven Splits\n",
    "When splitting an array, array_split() intelligently handles cases where the number of elements does not divide evenly. Here's how it works:\n",
    "\n",
    "Uneven Splits: If the total number of elements in the array cannot be evenly divided by the specified number of sections, NumPy will create the sub-arrays with as equal sizes as possible. The last sub-array will contain the remaining elements.\n",
    "\n",
    "Integer Input: When providing an integer for the number of sections, array_split() will distribute the elements as evenly as possible across the specified number of sub-arrays. For instance, if you have 10 elements and you want to split them into 3 sections, you will get two sections of 3 elements and one section of 4 elements.\n",
    "\n",
    "Array-like Input: If you specify an array of indices, the split will occur at those indices regardless of the number of elements in the resulting sub-arrays."
   ]
  },
  {
   "cell_type": "code",
   "execution_count": 17,
   "id": "78c22973",
   "metadata": {},
   "outputs": [
    {
     "name": "stdout",
     "output_type": "stream",
     "text": [
      "[array([1, 2]), array([3, 4]), array([5, 6])]\n"
     ]
    }
   ],
   "source": [
    "import numpy as np\n",
    "\n",
    "# Create an array\n",
    "array = np.array([1, 2, 3, 4, 5, 6])\n",
    "\n",
    "# Split into 3 equal parts\n",
    "split_array = np.array_split(array, 3)\n",
    "print(split_array)"
   ]
  },
  {
   "cell_type": "code",
   "execution_count": 18,
   "id": "aeaf11ab",
   "metadata": {},
   "outputs": [
    {
     "name": "stdout",
     "output_type": "stream",
     "text": [
      "[array([1, 2, 3, 4]), array([5, 6, 7]), array([ 8,  9, 10])]\n"
     ]
    }
   ],
   "source": [
    "# Create another array\n",
    "array_uneven = np.array([1, 2, 3, 4, 5, 6, 7, 8, 9, 10])\n",
    "\n",
    "# Split into 3 parts\n",
    "split_array_uneven = np.array_split(array_uneven, 3)\n",
    "print(split_array_uneven)"
   ]
  },
  {
   "cell_type": "markdown",
   "id": "8859b35e",
   "metadata": {},
   "source": [
    "# Q10. Explain the concepts of vectorization and broadcasting in NumPy. How do they contribute to efficient array operations?"
   ]
  },
  {
   "cell_type": "markdown",
   "id": "3ee6897d",
   "metadata": {},
   "source": [
    "Vectorization and broadcasting are powerful features of NumPy that facilitate efficient and expressive numerical computations. By leveraging these concepts, you can write code that is not only faster but also clearer and more concise, making it easier to work with complex datasets and perform advanced calculations."
   ]
  },
  {
   "cell_type": "markdown",
   "id": "0b4e151e",
   "metadata": {},
   "source": [
    "# Practical Questions:"
   ]
  },
  {
   "cell_type": "markdown",
   "id": "eaf3d37f",
   "metadata": {},
   "source": [
    "# Q1. Create a 3x3 NumPy array with random integers between 1 and 100. Then, interchange its rows and columns."
   ]
  },
  {
   "cell_type": "code",
   "execution_count": 19,
   "id": "8b24e653",
   "metadata": {},
   "outputs": [
    {
     "name": "stdout",
     "output_type": "stream",
     "text": [
      "Original Array:\n",
      "[[89 37 56]\n",
      " [80 42 32]\n",
      " [47 46 91]]\n",
      "\n",
      "Transposed Array (interchanged rows and columns):\n",
      "[[89 80 47]\n",
      " [37 42 46]\n",
      " [56 32 91]]\n"
     ]
    }
   ],
   "source": [
    "import numpy as np\n",
    "\n",
    "# Create a 3x3 NumPy array with random integers between 1 and 100\n",
    "array_3x3 = np.random.randint(1, 101, size=(3, 3))\n",
    "\n",
    "# Print the original array\n",
    "print(\"Original Array:\")\n",
    "print(array_3x3)\n",
    "\n",
    "# Interchange rows and columns (transpose the array)\n",
    "transposed_array = np.transpose(array_3x3)\n",
    "\n",
    "# Print the transposed array\n",
    "print(\"\\nTransposed Array (interchanged rows and columns):\")\n",
    "print(transposed_array)"
   ]
  },
  {
   "cell_type": "markdown",
   "id": "d1b70cd3",
   "metadata": {},
   "source": [
    "# Q.2 Generate a 1D NumPy array with 10 elements. Reshape it into a 2x5 array, then into a 5x2 array."
   ]
  },
  {
   "cell_type": "code",
   "execution_count": 20,
   "id": "b987dbd1",
   "metadata": {},
   "outputs": [
    {
     "name": "stdout",
     "output_type": "stream",
     "text": [
      "Original 1D Array:\n",
      "[0 1 2 3 4 5 6 7 8 9]\n",
      "\n",
      "Reshaped to 2x5 Array:\n",
      "[[0 1 2 3 4]\n",
      " [5 6 7 8 9]]\n",
      "\n",
      "Reshaped to 5x2 Array:\n",
      "[[0 1]\n",
      " [2 3]\n",
      " [4 5]\n",
      " [6 7]\n",
      " [8 9]]\n"
     ]
    }
   ],
   "source": [
    "import numpy as np\n",
    "\n",
    "# Generate a 1D NumPy array with 10 elements (e.g., integers from 0 to 9)\n",
    "array_1d = np.arange(10)\n",
    "\n",
    "# Print the original 1D array\n",
    "print(\"Original 1D Array:\")\n",
    "print(array_1d)\n",
    "\n",
    "# Reshape it into a 2x5 array\n",
    "array_2x5 = array_1d.reshape(2, 5)\n",
    "\n",
    "# Print the reshaped 2x5 array\n",
    "print(\"\\nReshaped to 2x5 Array:\")\n",
    "print(array_2x5)\n",
    "\n",
    "# Reshape it into a 5x2 array\n",
    "array_5x2 = array_1d.reshape(5, 2)\n",
    "\n",
    "# Print the reshaped 5x2 array\n",
    "print(\"\\nReshaped to 5x2 Array:\")\n",
    "print(array_5x2)"
   ]
  },
  {
   "cell_type": "markdown",
   "id": "61ac6c6a",
   "metadata": {},
   "source": [
    "# Q.3 Create a 4x4 NumPy array with random float values. Add a border of zeros around it, resulting in a 6x6 array."
   ]
  },
  {
   "cell_type": "code",
   "execution_count": 21,
   "id": "a18c9df5",
   "metadata": {},
   "outputs": [
    {
     "name": "stdout",
     "output_type": "stream",
     "text": [
      "Original 4x4 Array:\n",
      "[[0.69602698 0.92549123 0.68897172 0.56288414]\n",
      " [0.519802   0.31956007 0.50714628 0.42274228]\n",
      " [0.32170512 0.39535946 0.47661714 0.83156471]\n",
      " [0.28233281 0.24204203 0.72557315 0.04839433]]\n",
      "\n",
      "6x6 Array with Border of Zeros:\n",
      "[[0.         0.         0.         0.         0.         0.        ]\n",
      " [0.         0.69602698 0.92549123 0.68897172 0.56288414 0.        ]\n",
      " [0.         0.519802   0.31956007 0.50714628 0.42274228 0.        ]\n",
      " [0.         0.32170512 0.39535946 0.47661714 0.83156471 0.        ]\n",
      " [0.         0.28233281 0.24204203 0.72557315 0.04839433 0.        ]\n",
      " [0.         0.         0.         0.         0.         0.        ]]\n"
     ]
    }
   ],
   "source": [
    "# Create a 4x4 NumPy array with random float values\n",
    "array_4x4 = np.random.random((4, 4))\n",
    "\n",
    "# Print the original 4x4 array\n",
    "print(\"Original 4x4 Array:\")\n",
    "print(array_4x4)\n",
    "\n",
    "# Add a border of zeros around the original array\n",
    "array_with_border = np.pad(array_4x4, pad_width=1, mode='constant', constant_values=0)\n",
    "\n",
    "# Print the resulting 6x6 array\n",
    "print(\"\\n6x6 Array with Border of Zeros:\")\n",
    "print(array_with_border)"
   ]
  },
  {
   "cell_type": "markdown",
   "id": "5d130199",
   "metadata": {},
   "source": [
    "# Q4. Using NumPy, create an array of integers from 10 to 60 with a step of 5."
   ]
  },
  {
   "cell_type": "code",
   "execution_count": 22,
   "id": "8816dccb",
   "metadata": {},
   "outputs": [
    {
     "name": "stdout",
     "output_type": "stream",
     "text": [
      "Array of integers from 10 to 60 with a step of 5:\n",
      "[10 15 20 25 30 35 40 45 50 55 60]\n"
     ]
    }
   ],
   "source": [
    "# Create an array of integers from 10 to 60 with a step of 5\n",
    "array_integers = np.arange(10, 61, 5)\n",
    "\n",
    "# Print the resulting array\n",
    "print(\"Array of integers from 10 to 60 with a step of 5:\")\n",
    "print(array_integers)"
   ]
  },
  {
   "cell_type": "markdown",
   "id": "ebc331df",
   "metadata": {},
   "source": [
    "# Q5. Create a NumPy array of strings ['python', 'numpy', 'pandas']. Apply different case transformations (uppercase, lowercase, title case, etc.) to each element."
   ]
  },
  {
   "cell_type": "code",
   "execution_count": 23,
   "id": "5d26dc9f",
   "metadata": {},
   "outputs": [
    {
     "name": "stdout",
     "output_type": "stream",
     "text": [
      "Original Array:\n",
      "['python' 'numpy' 'pandas']\n",
      "\n",
      "Uppercase Array:\n",
      "['PYTHON' 'NUMPY' 'PANDAS']\n",
      "\n",
      "Lowercase Array:\n",
      "['python' 'numpy' 'pandas']\n",
      "\n",
      "Titlecase Array:\n",
      "['Python' 'Numpy' 'Pandas']\n",
      "\n",
      "Capitalized Array:\n",
      "['Python' 'Numpy' 'Pandas']\n"
     ]
    }
   ],
   "source": [
    "# Create a NumPy array of strings\n",
    "array_strings = np.array(['python', 'numpy', 'pandas'])\n",
    "\n",
    "# Apply different case transformations\n",
    "uppercase_array = np.char.upper(array_strings)\n",
    "lowercase_array = np.char.lower(array_strings)\n",
    "titlecase_array = np.char.title(array_strings)\n",
    "capitalize_array = np.char.capitalize(array_strings)\n",
    "\n",
    "# Print the original array and the transformed arrays\n",
    "print(\"Original Array:\")\n",
    "print(array_strings)\n",
    "\n",
    "print(\"\\nUppercase Array:\")\n",
    "print(uppercase_array)\n",
    "\n",
    "print(\"\\nLowercase Array:\")\n",
    "print(lowercase_array)\n",
    "\n",
    "print(\"\\nTitlecase Array:\")\n",
    "print(titlecase_array)\n",
    "\n",
    "print(\"\\nCapitalized Array:\")\n",
    "print(capitalize_array)"
   ]
  },
  {
   "cell_type": "markdown",
   "id": "d8920088",
   "metadata": {},
   "source": [
    "# Q6. Generate a NumPy array of words. Insert a space between each character of every word in the array."
   ]
  },
  {
   "cell_type": "code",
   "execution_count": 24,
   "id": "a487cf8d",
   "metadata": {},
   "outputs": [
    {
     "name": "stdout",
     "output_type": "stream",
     "text": [
      "Original Array:\n",
      "['hello' 'world' 'numpy' 'python']\n",
      "\n",
      "Array with Spaces Between Characters:\n",
      "['h e l l o' 'w o r l d' 'n u m p y' 'p y t h o n']\n"
     ]
    }
   ],
   "source": [
    "# Create a NumPy array of words\n",
    "array_words = np.array(['hello', 'world', 'numpy', 'python'])\n",
    "\n",
    "# Insert a space between each character of every word\n",
    "spaced_words = np.char.join(' ', array_words)\n",
    "\n",
    "# Print the original array and the transformed array\n",
    "print(\"Original Array:\")\n",
    "print(array_words)\n",
    "\n",
    "print(\"\\nArray with Spaces Between Characters:\")\n",
    "print(spaced_words)"
   ]
  },
  {
   "cell_type": "markdown",
   "id": "5f284294",
   "metadata": {},
   "source": [
    "# Q7. Create two 2D NumPy arrays and perform element-wise addition, subtraction, multiplication, and division."
   ]
  },
  {
   "cell_type": "code",
   "execution_count": 25,
   "id": "91347a25",
   "metadata": {},
   "outputs": [
    {
     "name": "stdout",
     "output_type": "stream",
     "text": [
      "Array 1:\n",
      "[[1 2 3]\n",
      " [4 5 6]]\n",
      "\n",
      "Array 2:\n",
      "[[10 20 30]\n",
      " [40 50 60]]\n",
      "\n",
      "Element-wise Addition:\n",
      "[[11 22 33]\n",
      " [44 55 66]]\n",
      "\n",
      "Element-wise Subtraction:\n",
      "[[ -9 -18 -27]\n",
      " [-36 -45 -54]]\n",
      "\n",
      "Element-wise Multiplication:\n",
      "[[ 10  40  90]\n",
      " [160 250 360]]\n",
      "\n",
      "Element-wise Division:\n",
      "[[0.1 0.1 0.1]\n",
      " [0.1 0.1 0.1]]\n"
     ]
    }
   ],
   "source": [
    "# Create two 2D NumPy arrays\n",
    "array1 = np.array([[1, 2, 3],\n",
    "                   [4, 5, 6]])\n",
    "\n",
    "array2 = np.array([[10, 20, 30],\n",
    "                   [40, 50, 60]])\n",
    "\n",
    "# Perform element-wise addition\n",
    "addition = np.add(array1, array2)\n",
    "\n",
    "# Perform element-wise subtraction\n",
    "subtraction = np.subtract(array1, array2)\n",
    "\n",
    "# Perform element-wise multiplication\n",
    "multiplication = np.multiply(array1, array2)\n",
    "\n",
    "# Perform element-wise division\n",
    "division = np.divide(array1, array2)\n",
    "\n",
    "# Print the results\n",
    "print(\"Array 1:\")\n",
    "print(array1)\n",
    "\n",
    "print(\"\\nArray 2:\")\n",
    "print(array2)\n",
    "\n",
    "print(\"\\nElement-wise Addition:\")\n",
    "print(addition)\n",
    "\n",
    "print(\"\\nElement-wise Subtraction:\")\n",
    "print(subtraction)\n",
    "\n",
    "print(\"\\nElement-wise Multiplication:\")\n",
    "print(multiplication)\n",
    "\n",
    "print(\"\\nElement-wise Division:\")\n",
    "print(division)"
   ]
  },
  {
   "cell_type": "markdown",
   "id": "2464f6e0",
   "metadata": {},
   "source": [
    "# Q8. Use NumPy to create a 5x5 identity matrix, then extract its diagonal elements."
   ]
  },
  {
   "cell_type": "code",
   "execution_count": 26,
   "id": "adb90903",
   "metadata": {},
   "outputs": [
    {
     "name": "stdout",
     "output_type": "stream",
     "text": [
      "5x5 Identity Matrix:\n",
      "[[1. 0. 0. 0. 0.]\n",
      " [0. 1. 0. 0. 0.]\n",
      " [0. 0. 1. 0. 0.]\n",
      " [0. 0. 0. 1. 0.]\n",
      " [0. 0. 0. 0. 1.]]\n",
      "\n",
      "Diagonal Elements:\n",
      "[1. 1. 1. 1. 1.]\n"
     ]
    }
   ],
   "source": [
    "# Create a 5x5 identity matrix\n",
    "identity_matrix = np.eye(5)\n",
    "\n",
    "# Print the identity matrix\n",
    "print(\"5x5 Identity Matrix:\")\n",
    "print(identity_matrix)\n",
    "\n",
    "# Extract the diagonal elements\n",
    "diagonal_elements = np.diag(identity_matrix)\n",
    "\n",
    "# Print the diagonal elements\n",
    "print(\"\\nDiagonal Elements:\")\n",
    "print(diagonal_elements)"
   ]
  },
  {
   "cell_type": "markdown",
   "id": "bc2cd1dc",
   "metadata": {},
   "source": [
    "# Q 9.Generate a NumPy array of 100 random integers between 0 and 1000. Find and display all prime numbers in this array."
   ]
  },
  {
   "cell_type": "code",
   "execution_count": 27,
   "id": "86c1a490",
   "metadata": {},
   "outputs": [
    {
     "name": "stdout",
     "output_type": "stream",
     "text": [
      "Random Array of 100 Integers:\n",
      "[533 397 882 332 749  97 416 147 563 941 978 840 951 791 953 575 106 870\n",
      "  86 946 532 135 813 872 256 107 208 746 790  41 569 938 416 837 804 522\n",
      "  86 650 513 589 280 454 634 204 455 472 950 335 993  89 168 199 315 241\n",
      " 989  73 153 922  36 752 302 818 611 382  66  21 819  60 389 522 879 145\n",
      " 125 300 759 410 260 853 960 558 128  66 550 284 357 415  32 633 495 234\n",
      " 941 884 630 544 165 331 200 375 713 648]\n",
      "\n",
      "Prime Numbers in the Array:\n",
      "[397, 97, 563, 941, 953, 107, 41, 569, 89, 199, 241, 73, 389, 853, 941, 331]\n"
     ]
    }
   ],
   "source": [
    "def is_prime(num):\n",
    "    \"\"\"Check if a number is prime.\"\"\"\n",
    "    if num <= 1:\n",
    "        return False\n",
    "    for i in range(2, int(num**0.5) + 1):\n",
    "        if num % i == 0:\n",
    "            return False\n",
    "    return True\n",
    "\n",
    "# Generate a NumPy array of 100 random integers between 0 and 1000\n",
    "random_array = np.random.randint(0, 1001, size=100)\n",
    "\n",
    "# Find all prime numbers in the array\n",
    "prime_numbers = [num for num in random_array if is_prime(num)]\n",
    "\n",
    "# Print the random array and the prime numbers found\n",
    "print(\"Random Array of 100 Integers:\")\n",
    "print(random_array)\n",
    "\n",
    "print(\"\\nPrime Numbers in the Array:\")\n",
    "print(prime_numbers)"
   ]
  },
  {
   "cell_type": "markdown",
   "id": "2917e581",
   "metadata": {},
   "source": [
    "# Q10. Create a NumPy array representing daily temperatures for a month. Calculate and display the weekly averages."
   ]
  },
  {
   "cell_type": "code",
   "execution_count": 28,
   "id": "df4babce",
   "metadata": {},
   "outputs": [
    {
     "name": "stdout",
     "output_type": "stream",
     "text": [
      "Daily Temperatures for the Month:\n",
      "[32.01454575  2.42528999 29.36231092 16.9892643   7.75281512 29.87239021\n",
      " 30.0322143  18.07230328 31.73727763  8.98826102 15.36653818 31.67919744\n",
      " 11.76712989 26.71876219 18.62654158 15.78523447  5.5889813  17.86004299\n",
      "  0.16991982 22.92578507  6.74534997 14.55482785  5.21133586 28.99533226\n",
      " 11.29039803 24.17525588 19.68520806 19.886752   20.15477839 12.48824124]\n",
      "\n",
      "Weekly Average Temperatures:\n",
      "Week 1: 21.21 °C\n",
      "Week 2: 20.62 °C\n",
      "Week 3: 12.53 °C\n",
      "Week 4: 17.69 °C\n"
     ]
    }
   ],
   "source": [
    "# Create a NumPy array representing daily temperatures for a month (30 days)\n",
    "# For demonstration, let's generate random temperatures between 0 and 35 degrees Celsius\n",
    "daily_temperatures = np.random.uniform(0, 35, size=30)\n",
    "\n",
    "# Print the daily temperatures\n",
    "print(\"Daily Temperatures for the Month:\")\n",
    "print(daily_temperatures)\n",
    "\n",
    "# Reshape the array to represent weeks (4 weeks with 2 days)\n",
    "# Here, we'll consider the first 28 days for 4 complete weeks\n",
    "weekly_temperatures = daily_temperatures[:28].reshape(4, 7)\n",
    "\n",
    "# Calculate the weekly averages\n",
    "weekly_averages = np.mean(weekly_temperatures, axis=1)\n",
    "\n",
    "# Print the weekly averages\n",
    "print(\"\\nWeekly Average Temperatures:\")\n",
    "for week in range(4):\n",
    "    print(f\"Week {week + 1}: {weekly_averages[week]:.2f} °C\")"
   ]
  },
  {
   "cell_type": "code",
   "execution_count": null,
   "id": "b16f4bd1",
   "metadata": {},
   "outputs": [],
   "source": []
  }
 ],
 "metadata": {
  "kernelspec": {
   "display_name": "Python 3 (ipykernel)",
   "language": "python",
   "name": "python3"
  },
  "language_info": {
   "codemirror_mode": {
    "name": "ipython",
    "version": 3
   },
   "file_extension": ".py",
   "mimetype": "text/x-python",
   "name": "python",
   "nbconvert_exporter": "python",
   "pygments_lexer": "ipython3",
   "version": "3.11.5"
  }
 },
 "nbformat": 4,
 "nbformat_minor": 5
}
