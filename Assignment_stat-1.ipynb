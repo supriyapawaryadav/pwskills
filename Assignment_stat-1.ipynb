{
 "cells": [
  {
   "cell_type": "markdown",
   "id": "b0eb1267",
   "metadata": {},
   "source": [
    "# 1. Explain the different types of data (qualitative and quantitative) and provide examples of each. Discuss nominal, ordinal, interval, and ratio scales."
   ]
  },
  {
   "cell_type": "markdown",
   "id": "5bdebb74",
   "metadata": {},
   "source": [
    "Nominal: Categories without any order (e.g., types of fruit).\n",
    "\n",
    "Ordinal: Ordered categories, but without a consistent difference between them (e.g., ranking).\n",
    "\n",
    "Interval: Ordered data with consistent differences, but no true zero (e.g., temperature).\n",
    "\n",
    "Ratio: Ordered data with consistent differences and a true zero (e.g., height, weight).\n",
    "In summary:\n",
    "\n",
    "Qualitative: Describes categories (Nominal, Ordinal).\n",
    "\n",
    "Quantitative: Involves numbers and measures (Interval, Ratio)."
   ]
  },
  {
   "cell_type": "markdown",
   "id": "c6e31a9c",
   "metadata": {},
   "source": [
    "# 2. What are the measures of central tendency, and when should you use each? Discuss the mean, median,and mode with examples and situations where each is appropriate."
   ]
  },
  {
   "cell_type": "markdown",
   "id": "f65b30e0",
   "metadata": {},
   "source": [
    "1> Mean: Averages all values (sensitive to outliers).\n",
    "\n",
    "When to Use:\n",
    "Use the mean when the data is quantitative and does not have significant outliers or skewness.\n",
    "It provides a reliable central value when all data points contribute equally.\n",
    "\n",
    "Situations:\n",
    "Calculating the average test score of a class.\n",
    "Determining the average income in a region (if there are no extreme outliers).\n",
    "\n",
    "\n",
    "2> Median: Middle value (best for skewed data).\n",
    "\n",
    "When to Use:\n",
    "Use the median for quantitative or ordinal data, especially when the dataset is skewed or contains outliers.\n",
    "The median is less affected by extreme values than the mean.\n",
    "\n",
    "Situations:\n",
    "Analyzing household income in a region where a few extremely high incomes might skew the mean.\n",
    "Determining the middle rank in a race or competition.\n",
    "\n",
    "3> Mode: Most frequent value (ideal for categorical or discrete data).\n",
    "\n",
    "When to Use:\n",
    "Use the mode for categorical data or for datasets where identifying the most common value is important.\n",
    "It is helpful when the dataset is non-numeric.\n",
    "\n",
    "Situations:\n",
    "Determining the most popular ice cream flavor (e.g., Chocolate).\n",
    "Identifying the most common shoe size sold in a store."
   ]
  },
  {
   "cell_type": "code",
   "execution_count": 1,
   "id": "5f7747eb",
   "metadata": {},
   "outputs": [
    {
     "data": {
      "text/plain": [
       "3.1666666666666665"
      ]
     },
     "execution_count": 1,
     "metadata": {},
     "output_type": "execute_result"
    }
   ],
   "source": [
    "#Mean Example-\n",
    "import numpy as np\n",
    "data=[1,2,3,4,4,5]\n",
    "np.mean(data)\n"
   ]
  },
  {
   "cell_type": "code",
   "execution_count": 2,
   "id": "50b6f67d",
   "metadata": {},
   "outputs": [
    {
     "data": {
      "text/plain": [
       "3.5"
      ]
     },
     "execution_count": 2,
     "metadata": {},
     "output_type": "execute_result"
    }
   ],
   "source": [
    "np.median(data)"
   ]
  },
  {
   "cell_type": "code",
   "execution_count": 3,
   "id": "5b342aec",
   "metadata": {},
   "outputs": [
    {
     "data": {
      "text/plain": [
       "4"
      ]
     },
     "execution_count": 3,
     "metadata": {},
     "output_type": "execute_result"
    }
   ],
   "source": [
    "import statistics as st\n",
    "st.mode(data)"
   ]
  },
  {
   "cell_type": "markdown",
   "id": "8ccc0e3d",
   "metadata": {},
   "source": [
    "# 3. Explain the concept of dispersion. How do variance and standard deviation measure the spread of data?"
   ]
  },
  {
   "cell_type": "markdown",
   "id": "c2756304",
   "metadata": {},
   "source": [
    "Dispersion refers to the spread or variability of a dataset. It measures how much the data points differ from one another or from the central tendency (mean, median, or mode). Dispersion helps to understand the reliability and consistency of the data.\n",
    "\n",
    "Importance:\n",
    "\n",
    "High dispersion indicates that data points are spread out, while low dispersion shows that data points are clustered closely around the central value.\n",
    "\n",
    "Understanding dispersion is crucial for identifying variability, comparing datasets, and interpreting data trends.\n",
    "\n",
    "How Variance and Standard Deviation Measure Spread\n",
    "\n",
    "Variance:\n",
    "\n",
    "Measures the average squared deviations from the mean.\n",
    "A larger variance indicates that data points are more spread out.\n",
    "It exaggerates the effect of outliers because deviations are squared.\n",
    "\n",
    "Standard Deviation:\n",
    "\n",
    "Measures the average deviation from the mean in original units.\n",
    "A smaller standard deviation indicates data points are closer to the mean (low variability).\n",
    "Easier to interpret and compare across datasets due to being in the same unit as the data."
   ]
  },
  {
   "cell_type": "markdown",
   "id": "8a14a889",
   "metadata": {},
   "source": [
    "Dataset A: 5,5,5,5 (Low variability)\n",
    "\n",
    "Variance = 0, Standard Deviation = 0\n",
    "\n",
    "Dataset B: 2,4,8,10 (Higher variability)\n",
    "\n",
    "Variance = 12, Standard Deviation = 3.46\n",
    "\n",
    "The greater variance and standard deviation of Dataset B show that it has a larger spread compared to Dataset A."
   ]
  },
  {
   "cell_type": "markdown",
   "id": "bf9b436b",
   "metadata": {},
   "source": [
    "# 4. What is a box plot, and what can it tell you about the distribution of data?"
   ]
  },
  {
   "cell_type": "markdown",
   "id": "a6fcb128",
   "metadata": {},
   "source": [
    "A box plot (also called a box-and-whisker plot) is a graphical representation of the distribution of a dataset. It provides a summary of the data's key statistical measures, such as the median, quartiles, and outliers. Box plots are especially useful for comparing distributions across multiple datasets.\n",
    "\n",
    "When multiple box plots are plotted side by side, they allow for a quick comparison of central tendency, spread, and outliers across different datasets or categories.\n",
    "\n",
    "Provides a clear summary of data distribution.\n",
    "\n",
    "Helps identify outliers.\n",
    "\n",
    "Useful for comparing multiple datasets side by side.\n",
    "\n",
    "Non-parametric: Doesn't assume a specific distribution for the data.\n"
   ]
  },
  {
   "cell_type": "markdown",
   "id": "afa8a3e8",
   "metadata": {},
   "source": [
    "# 5. Discuss the role of random sampling in making inferences about populations."
   ]
  },
  {
   "cell_type": "markdown",
   "id": "9bdc1cf0",
   "metadata": {},
   "source": [
    "a. Generalization:\n",
    "Random sampling allows researchers to infer population characteristics (parameters) from sample statistics (e.g., sample mean, proportion).\n",
    "Example: If 60% of a random sample of voters supports a candidate, we can estimate that approximately 60% of the population supports them, within a margin of error.\n",
    "\n",
    "b. Uncertainty Quantification:\n",
    "Random sampling enables the use of probability theory to quantify uncertainty, such as constructing confidence intervals and calculating p-values.\n",
    "Example: A 95% confidence interval provides a range where the true population parameter likely falls.\n",
    "\n",
    "c. Reduction of Sampling Error:\n",
    "While random sampling does not eliminate sampling error (the natural variability in sample results), it ensures that this error is random and not systematic, making it predictable and measurable.\n"
   ]
  },
  {
   "cell_type": "markdown",
   "id": "dea5e562",
   "metadata": {},
   "source": [
    "# 6. Explain the concept of skewness and its types. How does skewness affect the interpretation of data?"
   ]
  },
  {
   "cell_type": "markdown",
   "id": "e48ff061",
   "metadata": {},
   "source": [
    "Skewness can be positive, negative, or zero, indicating the direction of the data’s tail.\n",
    "\n",
    "1.Positive Skewness (Right-Skewed Distribution):\n",
    "\n",
    "The tail is longer on the right (toward higher values).\n",
    "Most data points are concentrated on the left side, with a few extreme values on the right.\n",
    "Mean > Median > Mode.\n",
    "Example:\n",
    "\n",
    "Income distribution: A majority of people earn moderate incomes, but a few high-income earners create a long right tail.\n",
    "\n",
    "2.Negative Skewness (Left-Skewed Distribution):\n",
    "\n",
    "The tail is longer on the left (toward lower values).\n",
    "Most data points are concentrated on the right side, with a few extreme values on the left.\n",
    "Mean < Median < Mode.\n",
    "Example:\n",
    "\n",
    "Age of retirement: Many people retire at a standard age, but a few retire much earlier, creating a left tail.\n",
    "\n",
    "3.Zero Skewness (Symmetrical Distribution):\n",
    "\n",
    "The distribution is perfectly symmetrical, and the tail lengths are equal on both sides.\n",
    "Mean = Median = Mode.\n",
    "Example:\n",
    "\n",
    "Heights of adult males in a population (assuming a normal distribution).\n",
    "\n",
    "How Skewness Affects Data Interpretation\n",
    "\n",
    "1.Central Tendency:\n",
    "\n",
    "In a symmetrical distribution, the mean, median, and mode are approximately equal.\n",
    "In a skewed distribution, the mean is pulled toward the tail, making the median a better measure of central tendency.\n",
    "Right-skewed: The mean is higher than the median.\n",
    "Left-skewed: The mean is lower than the median.\n",
    "\n",
    "2.Choice of Statistical Tools:\n",
    "\n",
    "Many statistical methods assume a normal distribution (e.g., regression, hypothesis testing). Skewed data may violate these assumptions, requiring data transformation or alternative non-parametric methods.\n",
    "\n",
    "3.Outliers:\n",
    "\n",
    "Skewness highlights the presence of extreme values in one direction.\n",
    "Positive skewness suggests outliers are high values, while negative skewness suggests low-value outliers.\n",
    "\n",
    "4.Interpretation of Variability:\n",
    "\n",
    "Skewness can distort the perception of variability. In a right-skewed distribution, variability might appear higher due to extreme high values.\n",
    "\n",
    "5.Impact on Decision-Making:\n",
    "\n",
    "In business or research, skewed data can mislead conclusions:\n",
    "Right-skewed data: Overestimation of average performance (e.g., income, sales).\n",
    "Left-skewed data: Underestimation of central tendency (e.g., test scores in a hard exam)."
   ]
  },
  {
   "cell_type": "markdown",
   "id": "a92f0624",
   "metadata": {},
   "source": [
    "# 7. What is the interquartile range (IQR), and how is it used to detect outliers?"
   ]
  },
  {
   "cell_type": "markdown",
   "id": "664d81ae",
   "metadata": {},
   "source": [
    "The Interquartile Range (IQR) is a measure of statistical dispersion, which represents the range within which the middle 50% of the data falls. It is calculated as the difference between the third quartile (Q3) and the first quartile (Q1).\n",
    "\n",
    "how is it used to detect outliers-\n",
    "\n",
    "Outliers are data points that fall significantly outside the range of most of the data. The IQR method defines outliers as points that lie 1.5 times the IQR below Q1 or above Q3.\n",
    "\n",
    "Outlier Thresholds:\n",
    "\n",
    "Lower Bound=Q1−1.5×IQR\n",
    "\n",
    "Upper Bound=Q3+1.5×IQR\n",
    "\n",
    "Values below the lower bound or above the upper bound are considered outliers."
   ]
  },
  {
   "cell_type": "markdown",
   "id": "e076d17a",
   "metadata": {},
   "source": [
    "# 8. Discuss the conditions under which the binomial distribution is used."
   ]
  },
  {
   "cell_type": "markdown",
   "id": "5d8de533",
   "metadata": {},
   "source": [
    "The binomial distribution is used to model the probability of observing a certain number of \"successes\" in a sequence of independent trials, where each trial has only two possible outcomes (success or failure). To use the binomial distribution, the following conditions must be met:\n",
    "\n",
    "1. Fixed Number of Trials (n)\n",
    "\n",
    "2. Two Mutually Exclusive Outcomes per Trial\n",
    "\n",
    "3. Constant Probability of Success (p)\n",
    "\n",
    "4. Independence of Trials\n",
    "\n",
    "5. Discrete Random Variable"
   ]
  },
  {
   "cell_type": "markdown",
   "id": "7d96379e",
   "metadata": {},
   "source": [
    "# 9. Explain the properties of the normal distribution and the empirical rule (68-95-99.7 rule)."
   ]
  },
  {
   "cell_type": "markdown",
   "id": "51fb4b46",
   "metadata": {},
   "source": [
    "Properties of the Normal Distribution\n",
    "The normal distribution is one of the most important and widely used distributions in statistics. It is often referred to as the Gaussian distribution and is characterized by its bell-shaped curve. The properties of the normal distribution are:\n",
    "\n",
    "1. Symmetry\n",
    "\n",
    "The normal distribution is symmetric about its mean.\n",
    "The left half of the distribution is a mirror image of the right half.\n",
    "The mean, median, and mode are all the same and located at the center of the distribution.\n",
    "\n",
    "2. Bell-shaped Curve\n",
    "\n",
    "The curve is bell-shaped and peaks at the mean.\n",
    "As you move further from the mean, the probability of obtaining values decreases gradually.\n",
    "\n",
    "3. Mean, Median, and Mode\n",
    "\n",
    "Mean: The average of all data points. In a normal distribution, the mean is at the center of the curve.\n",
    "Median: The middle value when the data points are ordered. For a normal distribution, the median equals the mean.\n",
    "Mode: The most frequent value. In a normal distribution, the mode also equals the mean.\n",
    "\n",
    "4. Asymptotic Behavior\n",
    "\n",
    "The normal curve approaches the horizontal axis but never actually touches or intersects it. This means that there are no extreme values, but the probability of extreme values becomes very small as you move further from the mean.\n",
    "\n",
    "5. Defined by Two Parameters: Mean and Standard Deviation\n",
    "\n",
    "The mean (μ) determines the center of the distribution (where the peak occurs).\n",
    "The standard deviation (σ) controls the spread of the distribution. A smaller standard deviation results in a narrower curve, while a larger standard deviation results in a wider curve.\n",
    "\n",
    "6. 68-95-99.7 Rule (Empirical Rule)\n",
    "\n",
    "The empirical rule, also known as the 68-95-99.7 rule, provides a quick way to understand the distribution of data in a normal distribution. It states that:\n",
    "\n",
    "68% of the data falls within 1 standard deviation of the mean (μ±σ).\n",
    "\n",
    "95% of the data falls within 2 standard deviations of the mean (μ±2σ).\n",
    "\n",
    "99.7% of the data falls within 3 standard deviations of the mean (μ±3σ).\n",
    "\n",
    "This rule is useful for understanding the spread of data in a normal distribution and helps in identifying outliers and understanding the likelihood of certain values."
   ]
  },
  {
   "cell_type": "markdown",
   "id": "68567534",
   "metadata": {},
   "source": [
    "# 10. Provide a real-life example of a Poisson process and calculate the probability for a specific event."
   ]
  },
  {
   "cell_type": "code",
   "execution_count": 4,
   "id": "358c9ada",
   "metadata": {},
   "outputs": [
    {
     "data": {
      "text/plain": [
       "0.09007922571921599"
      ]
     },
     "execution_count": 4,
     "metadata": {},
     "output_type": "execute_result"
    }
   ],
   "source": [
    "import math\n",
    "\n",
    "# Given data for the Poisson process\n",
    "lambda_rate = 10  # average number of patients per hour\n",
    "k = 7  # number of patients we're interested in\n",
    "\n",
    "# Poisson distribution formula\n",
    "def poisson_probability(lambda_rate, k):\n",
    "    return (lambda_rate**k * math.exp(-lambda_rate)) / math.factorial(k)\n",
    "\n",
    "# Calculate the probability\n",
    "probability = poisson_probability(lambda_rate, k)\n",
    "probability\n"
   ]
  },
  {
   "cell_type": "markdown",
   "id": "c1901c7a",
   "metadata": {},
   "source": [
    "# 11. Explain what a random variable is and differentiate between discrete and continuous random variables."
   ]
  },
  {
   "cell_type": "markdown",
   "id": "0afef136",
   "metadata": {},
   "source": [
    "A random variable is a variable that can take different values based on the outcome of a random event.\n",
    "\n",
    "Discrete random variables take on distinct, countable values (e.g., number of children in a family).\n",
    "\n",
    "Continuous random variables can take on any value within a given range (e.g., weight, height, or time).\n",
    "\n",
    "Each type of random variable uses a different method to describe the probability of outcomes: discrete random variables use a probability mass function (PMF), while continuous random variables use a probability density function (PDF)."
   ]
  },
  {
   "cell_type": "markdown",
   "id": "711e6dbe",
   "metadata": {},
   "source": [
    "# 12. Provide an example dataset, calculate both covariance and correlation, and interpret the results."
   ]
  },
  {
   "cell_type": "code",
   "execution_count": 5,
   "id": "a08c8e01",
   "metadata": {},
   "outputs": [
    {
     "name": "stdout",
     "output_type": "stream",
     "text": [
      "Covariance between X and Y: 5.0\n",
      "Correlation between X and Y: 0.9999999999999999\n"
     ]
    }
   ],
   "source": [
    "import numpy as np\n",
    "\n",
    "# Example dataset\n",
    "X = np.array([2, 4, 6, 8, 10])\n",
    "Y = np.array([1, 2, 3, 4, 5])\n",
    "\n",
    "# Calculate covariance\n",
    "cov_matrix = np.cov(X, Y)\n",
    "cov_xy = cov_matrix[0, 1]\n",
    "\n",
    "# Calculate correlation\n",
    "correlation = np.corrcoef(X, Y)[0, 1]\n",
    "\n",
    "# Display results\n",
    "print(f\"Covariance between X and Y: {cov_xy}\")\n",
    "print(f\"Correlation between X and Y: {correlation}\")\n"
   ]
  },
  {
   "cell_type": "markdown",
   "id": "79babe47",
   "metadata": {},
   "source": [
    "If the covariance is positive, it suggests that X and Y move in the same direction. If negative, they move in opposite directions.\n",
    "\n",
    "The correlation, normalized between -1 and 1, provides a clearer picture of the strength of the relationship, with values closer to 1 or -1 indicating a stronger linear relationship."
   ]
  }
 ],
 "metadata": {
  "kernelspec": {
   "display_name": "Python 3 (ipykernel)",
   "language": "python",
   "name": "python3"
  },
  "language_info": {
   "codemirror_mode": {
    "name": "ipython",
    "version": 3
   },
   "file_extension": ".py",
   "mimetype": "text/x-python",
   "name": "python",
   "nbconvert_exporter": "python",
   "pygments_lexer": "ipython3",
   "version": "3.11.5"
  }
 },
 "nbformat": 4,
 "nbformat_minor": 5
}
